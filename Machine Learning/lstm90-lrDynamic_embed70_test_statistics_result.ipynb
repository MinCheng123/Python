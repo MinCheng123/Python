{
 "cells": [
  {
   "cell_type": "code",
   "execution_count": 1,
   "metadata": {},
   "outputs": [
    {
     "name": "stderr",
     "output_type": "stream",
     "text": [
      "Using TensorFlow backend.\n"
     ]
    }
   ],
   "source": [
    "from __future__ import print_function\n",
    "import re\n",
    "import os\n",
    "import numpy as np\n",
    "import pandas as pd\n",
    "from collections import Counter\n",
    "import csv\n",
    "from keras.models import model_from_json\n",
    "from keras.preprocessing import sequence\n",
    "from keras.models import Sequential,Model\n",
    "from keras.layers import Dense, Embedding,BatchNormalization,Input\n",
    "from keras.layers import LSTM\n",
    "from keras.datasets import imdb\n",
    "#import import_ipynb\n",
    "#import logfile_extraction \n",
    "from sklearn.model_selection import train_test_split\n",
    "from keras import optimizers\n",
    "import matplotlib.pyplot as plt\n",
    "import keras \n",
    "import keras_metrics\n",
    "import keras.backend as K\n",
    "from keras.callbacks import ReduceLROnPlateau, ModelCheckpoint\n",
    "from keras.models import load_model\n",
    "from keras.callbacks import LambdaCallback"
   ]
  },
  {
   "cell_type": "code",
   "execution_count": 2,
   "metadata": {},
   "outputs": [],
   "source": [
    "list_max_size=0\n",
    "list_1dim=[]\n",
    "list_2dim=[]"
   ]
  },
  {
   "cell_type": "code",
   "execution_count": 63,
   "metadata": {
    "scrolled": true
   },
   "outputs": [
    {
     "name": "stdout",
     "output_type": "stream",
     "text": [
      "{'extli.rear_fog_light()': 0, 'extli.verify_indicate_off()': 1, 'driver.press_brake()': 2, 'extli.verify_hazard_lights_on()': 3, 'extli.verify_rear_fog_light_on()': 4, 'driver.verify_usage_mode_active()': 5, 'extli.indicate_left()': 6, 'driver.usage_mode_driving()': 7, 'extli.verify_beam_shape_off()': 8, 'extli.verify_front_fog_light_off()': 9, 'driver.verify_usage_mode_driving()': 10, 'extli.verify_light_switch_off()': 11, 'driver.usage_mode_inactive()': 12, 'extli.release_turn_stalk()': 13, 'extli.verify_light_switch_lowbeam()': 14, 'extli.verify_light_switch_auto()': 15, 'extli.verify_light_switch_position()': 16, 'extli.verify_rear_fog_light_off()': 17, 'driver.verify_usage_mode_convenience()': 18, 'driver.usage_mode_convenience()': 19, 'driver.release_brake()': 20, 'extli.verify_brake_lights_off()': 21, 'extli.verify_low_beam_on()': 22, 'extli.front_fog_light()': 23, 'extli.light_switch_auto()': 24, 'driver.usage_mode_active()': 25, 'extli.indicate_right()': 26, 'extli.light_switch_position()': 27, 'extli.verify_indicate_left_on()': 28, 'extli.light_switch_lowbeam()': 29, 'extli.verify_brake_lights_on()': 30, 'driver.verify_usage_mode_inactive()': 31, 'extli.verify_front_fog_light_on()': 32, 'extli.pull_turn_stalk()': 33, 'extli.indicate_neutral()': 34, 'extli.push_hazard_button()': 35, 'extli.verify_main_beam_on()': 36, 'extli.light_switch_off()': 37, 'extli.verify_indicate_right_on()': 38}\n"
     ]
    }
   ],
   "source": [
    "def number_of_function():\n",
    "    pattern = re.compile(r'(driver|extli).+\\)')\n",
    "    for (root,dirs,files) in os.walk('C:\\MasterThesis\\document\\Logs\\log files', topdown=True): \n",
    "\n",
    "        if len(files)>0:\n",
    "            for loop in range(len(files)):\n",
    "                if files[loop].endswith((\".txt\")):  \n",
    "                    with open(root+'/'+files[loop], 'r') as f:\n",
    "                        contents=f.read()\n",
    "                        matches=pattern.finditer(contents)\n",
    "                        for j,match in enumerate(matches):\n",
    "                            list_1dim.append(str(match.group()))\n",
    "    counts = Counter(list_1dim) # count word frequency\n",
    "    list=set(list_1dim)\n",
    "    my_dict = {k: i  for i ,k in enumerate( list)}\n",
    "    return my_dict\n",
    "my_dict=number_of_function()\n",
    "print(my_dict)"
   ]
  },
  {
   "cell_type": "code",
   "execution_count": 64,
   "metadata": {
    "scrolled": true
   },
   "outputs": [],
   "source": [
    "#my_dict={'extli.light_switch_position()': 0, 'extli.push_hazard_button()': 1, 'driver.usage_mode_inactive()': 2, 'extli.release_turn_stalk()': 3, 'extli.verify_rear_fog_light_on()': 4, 'extli.verify_brake_lights_off()': 5, 'extli.front_fog_light()': 6, 'extli.light_switch_auto()': 7, 'extli.indicate_left()': 8, 'extli.verify_rear_fog_light_off()': 9, 'extli.verify_front_fog_light_off()': 10, 'extli.verify_indicate_off()': 11, 'driver.verify_usage_mode_convenience()': 12, 'extli.light_switch_off()': 13, 'extli.verify_light_switch_position()': 14, 'driver.usage_mode_convenience()': 15, 'driver.release_brake()': 16, 'extli.verify_main_beam_on()': 17, 'driver.verify_usage_mode_active()': 18, 'extli.verify_light_switch_off()': 19, 'extli.verify_low_beam_on()': 20, 'driver.verify_usage_mode_inactive()': 21, 'extli.verify_light_switch_auto()': 22, 'extli.indicate_neutral()': 23, 'extli.verify_indicate_left_on()': 24, 'extli.verify_light_switch_lowbeam()': 25, 'extli.verify_hazard_lights_on()': 26, 'extli.indicate_right()': 27, 'extli.pull_turn_stalk()': 28, 'driver.usage_mode_active()': 29, 'extli.verify_front_fog_light_on()': 30, 'extli.verify_beam_shape_off()': 31, 'driver.press_brake()': 32, 'extli.light_switch_lowbeam()': 33, 'driver.verify_usage_mode_driving()': 34, 'driver.usage_mode_driving()': 35, 'extli.verify_indicate_right_on()': 36, 'extli.verify_brake_lights_on()': 37, 'extli.rear_fog_light()': 38}\n",
    "#print(my_dict)"
   ]
  },
  {
   "cell_type": "code",
   "execution_count": 3,
   "metadata": {
    "scrolled": true
   },
   "outputs": [
    {
     "name": "stdout",
     "output_type": "stream",
     "text": [
      "{'extli.light_switch_position()': 0, 'extli.push_hazard_button()': 1, 'driver.usage_mode_inactive()': 2, 'extli.release_turn_stalk()': 3, 'extli.verify_rear_fog_light_on()': 4, 'extli.verify_brake_lights_off()': 5, 'extli.front_fog_light()': 6, 'extli.light_switch_auto()': 7, 'extli.indicate_left()': 8, 'extli.verify_rear_fog_light_off()': 9, 'extli.verify_front_fog_light_off()': 10, 'extli.verify_indicate_off()': 11, 'driver.verify_usage_mode_convenience()': 12, 'extli.light_switch_off()': 13, 'extli.verify_light_switch_position()': 14, 'driver.usage_mode_convenience()': 15, 'driver.release_brake()': 16, 'extli.verify_main_beam_on()': 17, 'driver.verify_usage_mode_active()': 18, 'extli.verify_light_switch_off()': 19, 'extli.verify_low_beam_on()': 20, 'driver.verify_usage_mode_inactive()': 21, 'extli.verify_light_switch_auto()': 22, 'extli.indicate_neutral()': 23, 'extli.verify_indicate_left_on()': 24, 'extli.verify_light_switch_lowbeam()': 25, 'extli.verify_hazard_lights_on()': 26, 'extli.indicate_right()': 27, 'extli.pull_turn_stalk()': 28, 'driver.usage_mode_active()': 29, 'extli.verify_front_fog_light_on()': 30, 'extli.verify_beam_shape_off()': 31, 'driver.press_brake()': 32, 'extli.light_switch_lowbeam()': 33, 'driver.verify_usage_mode_driving()': 34, 'driver.usage_mode_driving()': 35, 'extli.verify_indicate_right_on()': 36, 'extli.verify_brake_lights_on()': 37, 'extli.rear_fog_light()': 38}\n"
     ]
    }
   ],
   "source": [
    "my_dict={'extli.light_switch_position()': 0, 'extli.push_hazard_button()': 1, 'driver.usage_mode_inactive()': 2, 'extli.release_turn_stalk()': 3, 'extli.verify_rear_fog_light_on()': 4, 'extli.verify_brake_lights_off()': 5, 'extli.front_fog_light()': 6, 'extli.light_switch_auto()': 7, 'extli.indicate_left()': 8, 'extli.verify_rear_fog_light_off()': 9, 'extli.verify_front_fog_light_off()': 10, 'extli.verify_indicate_off()': 11, 'driver.verify_usage_mode_convenience()': 12, 'extli.light_switch_off()': 13, 'extli.verify_light_switch_position()': 14, 'driver.usage_mode_convenience()': 15, 'driver.release_brake()': 16, 'extli.verify_main_beam_on()': 17, 'driver.verify_usage_mode_active()': 18, 'extli.verify_light_switch_off()': 19, 'extli.verify_low_beam_on()': 20, 'driver.verify_usage_mode_inactive()': 21, 'extli.verify_light_switch_auto()': 22, 'extli.indicate_neutral()': 23, 'extli.verify_indicate_left_on()': 24, 'extli.verify_light_switch_lowbeam()': 25, 'extli.verify_hazard_lights_on()': 26, 'extli.indicate_right()': 27, 'extli.pull_turn_stalk()': 28, 'driver.usage_mode_active()': 29, 'extli.verify_front_fog_light_on()': 30, 'extli.verify_beam_shape_off()': 31, 'driver.press_brake()': 32, 'extli.light_switch_lowbeam()': 33, 'driver.verify_usage_mode_driving()': 34, 'driver.usage_mode_driving()': 35, 'extli.verify_indicate_right_on()': 36, 'extli.verify_brake_lights_on()': 37, 'extli.rear_fog_light()': 38}\n",
    "print(my_dict)"
   ]
  },
  {
   "cell_type": "code",
   "execution_count": 66,
   "metadata": {},
   "outputs": [],
   "source": [
    "#my_dict={'extli.light_switch_position()': 0, 'extli.push_hazard_button()': 1, 'driver.usage_mode_inactive()': 2, 'extli.release_turn_stalk()': 3, 'extli.verify_rear_fog_light_on()': 4, 'extli.verify_brake_lights_off()': 5, 'extli.front_fog_light()': 6, 'extli.light_switch_auto()': 7, 'extli.indicate_left()': 8, 'extli.verify_rear_fog_light_off()': 9, 'extli.verify_front_fog_light_off()': 70, 'extli.verify_indicate_off()': 100, 'driver.verify_usage_mode_convenience()': 12, 'extli.light_switch_off()': 13, 'extli.verify_light_switch_position()': 14, 'driver.usage_mode_convenience()': 15, 'driver.release_brake()': 16, 'extli.verify_main_beam_on()': 17, 'driver.verify_usage_mode_active()': 18, 'extli.verify_light_switch_off()': 19, 'extli.verify_low_beam_on()': 20, 'driver.verify_usage_mode_inactive()': 21, 'extli.verify_light_switch_auto()': 22, 'extli.indicate_neutral()': 23, 'extli.verify_indicate_left_on()': 24, 'extli.verify_light_switch_lowbeam()': 25, 'extli.verify_hazard_lights_on()': 26, 'extli.indicate_right()': 27, 'extli.pull_turn_stalk()': 28, 'driver.usage_mode_active()': 29, 'extli.verify_front_fog_light_on()': 30, 'extli.verify_beam_shape_off()': 31, 'driver.press_brake()': 32, 'extli.light_switch_lowbeam()': 33, 'driver.verify_usage_mode_driving()': 34, 'driver.usage_mode_driving()': 35, 'extli.verify_indicate_right_on()': 36, 'extli.verify_brake_lights_on()': 37, 'extli.rear_fog_light()': 38}\n",
    "#print(my_dict)\n",
    "# this is for 03-01 value changed 10 11 to 70 100"
   ]
  },
  {
   "cell_type": "code",
   "execution_count": 4,
   "metadata": {},
   "outputs": [],
   "source": [
    "# convert test case to csv-file\n",
    "log_dict={}\n",
    "pattern = re.compile(r'(driver|extli).+\\)')\n",
    "for (root,dirs,files) in os.walk('C:\\MasterThesis\\document\\Logs\\Feb 22', topdown=True): \n",
    "    if len(files)>0:\n",
    "        for loop in range(len(files)):\n",
    "            if files[loop].endswith((\".txt\")):\n",
    "                with open(root+'/'+files[loop], 'r') as f:\n",
    "                    contents=f.read()\n",
    "                    matches=pattern.finditer(contents)\n",
    "                    list_1dim=[]\n",
    "                    for j,match in enumerate(matches):\n",
    "                        list_1dim.append(str(match.group()))\n",
    "                name=files[loop].replace('.txt','.csv')\n",
    "               # print(name)\n",
    "                with open(root+'/'+name, 'w',newline='') as csvfile:\n",
    "                   # print(root+'/'+name)\n",
    "                    filewriter = csv.writer(csvfile)\n",
    "                    for j,row in enumerate(list_1dim):\n",
    "                         filewriter.writerow([row])\n"
   ]
  },
  {
   "cell_type": "code",
   "execution_count": 93,
   "metadata": {},
   "outputs": [
    {
     "name": "stdout",
     "output_type": "stream",
     "text": [
      "300\n"
     ]
    }
   ],
   "source": [
    "# check maximum execution step size\n",
    "for (root,dirs,files) in os.walk('C:\\MasterThesis\\document\\Logs\\Log files', topdown=True): \n",
    "    #print(dirs)\n",
    "    #print(root)\n",
    "   # print(files)\n",
    "    if root.endswith((\"Passed\")):\n",
    "        for loop in range(len(files)):\n",
    "            if files[loop].endswith((\".csv\")):\n",
    "                with open(root+'/'+files[loop], 'r') as csvfile:\n",
    "                    contents=csvfile.read()   # contents type:str use contents.split() convert to list\n",
    "                    #print()\n",
    "                    if list_max_size < len(contents.split()):\n",
    "                        list_max_size=len(contents.split())\n",
    "                        \n",
    "                        \n",
    "   # if root.endswith((\"Failed\")):\n",
    "\n",
    "print(list_max_size)\n"
   ]
  },
  {
   "cell_type": "code",
   "execution_count": 4,
   "metadata": {},
   "outputs": [],
   "source": [
    "# collect all the csv file data to a list\n",
    "csv_failed=[]\n",
    "csv_pass=[]\n",
    "for (root,dirs,files) in os.walk('C:\\MasterThesis\\document\\Logs\\Log files', topdown=True): \n",
    "    #print(dirs)\n",
    "    #print(root)\n",
    "   # print(files)\n",
    "    if root.endswith((\"Passed\")):\n",
    "        for loop in range(len(files)):\n",
    "            if files[loop].endswith((\".csv\")):\n",
    "                with open(root+'/'+files[loop], 'r') as csvfile:\n",
    "                    contents=csvfile.read()   # contents type:str use contents.split() convert to list\n",
    "                    csv_pass.append(contents.split())\n",
    "    if root.endswith((\"Failed\")):\n",
    "        for loop in range(len(files)):\n",
    "            if files[loop].endswith((\".csv\")):\n",
    "                with open(root+'/'+files[loop], 'r') as csvfile:\n",
    "                    contents=csvfile.read()   # contents type:str use contents.split() convert to list\n",
    "                    csv_failed.append(contents.split())                    "
   ]
  },
  {
   "cell_type": "code",
   "execution_count": 5,
   "metadata": {},
   "outputs": [],
   "source": [
    "# collect all the csv file data to a list\n",
    "csv_fake=[]\n",
    "\n",
    "for (root,dirs,files) in os.walk('C:\\MasterThesis\\document\\Logs\\generate', topdown=True): \n",
    "    for loop in range(len(files)):\n",
    "        if files[loop].endswith((\".csv\")):\n",
    "            with open(root+'/'+files[loop], 'r') as csvfile:\n",
    "                contents=csvfile.read()   # contents type:str use contents.split() convert to list\n",
    "                if len(contents.split())> 100:\n",
    "                    csv_fake.append(contents.split())\n"
   ]
  },
  {
   "cell_type": "code",
   "execution_count": 6,
   "metadata": {},
   "outputs": [
    {
     "name": "stdout",
     "output_type": "stream",
     "text": [
      "15588\n",
      "906\n",
      "10576\n",
      "(906,)\n",
      "(15588,)\n",
      "(10576,)\n"
     ]
    }
   ],
   "source": [
    "print(len(csv_pass))\n",
    "print(len(csv_failed))\n",
    "print(len(csv_fake))\n",
    "csv_failed_np=np.array(csv_failed)\n",
    "csv_pass_np=np.array(csv_pass)\n",
    "csv_fake_np=np.array(csv_fake)\n",
    "print(csv_failed_np.shape)\n",
    "print(csv_pass_np.shape)\n",
    "print(csv_fake_np.shape)\n"
   ]
  },
  {
   "cell_type": "code",
   "execution_count": 7,
   "metadata": {},
   "outputs": [],
   "source": [
    "# quantify data as dictionary indices\n",
    "csv_pass_quantified=csv_pass_np\n",
    "for case, cases in enumerate(csv_pass):\n",
    "    for step,steps in enumerate(csv_pass[case]):\n",
    "        #print('function:',csv_pass[case][step])\n",
    "        #print('my_dict',my_dict[csv_pass[case][step]])\n",
    "        csv_pass_quantified[case][step]=my_dict[csv_pass[case][step]]+1 # frist function is zero, zeros means not updateing kind of\n",
    "        #if csv_pass_quantified[case][step] == 39:\n",
    "            #print('yes!!!')\n",
    "            #print(csv_pass_quantified[case][step])\n",
    "        \n",
    "       # print('csv_pass_quantified', csv_pass_quantified[case][step])\n",
    "       # print('csv_pass_quantified type',type(csv_pass_quantified))\n"
   ]
  },
  {
   "cell_type": "code",
   "execution_count": 8,
   "metadata": {},
   "outputs": [],
   "source": [
    "csv_failed_quantified=csv_failed_np\n",
    "for case, cases in enumerate(csv_failed):\n",
    "    for step,steps in enumerate(csv_failed[case]):\n",
    "        #print(case ,step)\n",
    "        #print('function:',csv_failed[case][step])\n",
    "        #print('my_dict',my_dict[csv_failed[case][step]])\n",
    "        \n",
    "        csv_failed_quantified[case][step]=my_dict[csv_failed[case][step]]+1\n",
    "        #print(my_dict[csv_failed[case][step]]+1)\n",
    "        #print('csv_failed_quantified', csv_failed_quantified[case][step])\n",
    "        #print('csv_failed_quantified type',type(csv_failed_quantified))\n"
   ]
  },
  {
   "cell_type": "code",
   "execution_count": 9,
   "metadata": {},
   "outputs": [],
   "source": [
    "csv_fake_quantified=csv_fake_np\n",
    "for case, cases in enumerate(csv_fake):\n",
    "    for step,steps in enumerate(csv_fake[case]):\n",
    "        #print(case ,step)\n",
    "        #print('function:',csv_failed[case][step])\n",
    "        #print('my_dict',my_dict[csv_failed[case][step]])\n",
    "        \n",
    "        csv_fake_quantified[case][step]=my_dict[csv_fake[case][step]]+1\n",
    "        #print(my_dict[csv_failed[case][step]]+1)\n",
    "        #print('csv_failed_quantified', csv_failed_quantified[case][step])\n",
    "        #print('csv_failed_quantified type',type(csv_failed_quantified))"
   ]
  },
  {
   "cell_type": "code",
   "execution_count": 10,
   "metadata": {},
   "outputs": [],
   "source": [
    "\n",
    "# cut texts after this number of words (among top max_features most common words)\n",
    "maxlen = list_max_size\n"
   ]
  },
  {
   "cell_type": "code",
   "execution_count": 11,
   "metadata": {},
   "outputs": [
    {
     "name": "stdout",
     "output_type": "stream",
     "text": [
      "x_train_fake (10576, 300)\n",
      "15572\n",
      "15572\n",
      "x_train_pass shape: (15588, 300)\n",
      "x_train_fail shape: (905, 300)\n",
      "x_train_fail [[ 0  0  0 ... 12 33 38]\n",
      " [ 0  0  0 ... 38 17  6]\n",
      " [ 0  0  0 ... 12  2 27]\n",
      " ...\n",
      " [ 0  0  0 ... 12 33 38]\n",
      " [ 0  0  0 ... 12  9 12]\n",
      " [ 0  0  0 ...  6 16 13]]\n",
      "x_train_fail type: <class 'numpy.ndarray'>\n",
      "x_train shape (11810, 300)\n",
      "y_dataset shape (11810, 1)\n",
      "x_dataset [ 0  0  0  0  0  0  0  0  0  0  0  0  0  0  0  0  0  0  0  0  0  0  0  0\n",
      "  0  0  0  0  0  0  0  0  0  0  0  0  0  0  0  0  0  0  0  0  0  0  0  0\n",
      "  0  0  0  0  0  0  0  0  0  0  0  0  0  0  0  0  0  0  0  0  0  0  0  0\n",
      "  0  0  0  0  0  0  0  0  0  0  0  0  0  0  0  0  0  0  0  0  0  0  0  0\n",
      "  0  0  0  0  0  0  0  0  0  0  0  0  0  0  0  0  0  0  0  0  0  0  0  0\n",
      "  0  0  0  0  0  0  0  0  0  0  0  0  0  0  0  0  0  0  0  0  0  0  0  0\n",
      "  0  0  0  0  0  0  0  0  0  0  0  0  0  0  0  0  0  0  0  0  0  0  0  0\n",
      "  0  0  0  0  0  0  0  0  0  0  0  0  0  0  0  0  0  0  0  0  0  0  0  0\n",
      "  0  0  0  0  0  0  0  0  0  0  0  0  0  0  0  0  0  0  0  0  0  0  0  0\n",
      "  0  0  0  0  0  0  0  0  0  0  0  0  0  0  0  0  0  0  0  0  0  0  0  0\n",
      "  0  0  0  0  0  0  0  0  0  0  0  0  0  0  0  0  0  0  0  0 36 35  1 15\n",
      " 29 18  4 32  7 31  7 11 39 10 28 37  2 27  2 37 24 12 33 38 17  6  3 22\n",
      " 34 26  8 23  1 15  8 23 29 32  4 32]\n",
      "[1]\n"
     ]
    }
   ],
   "source": [
    "#print('Pad sequences (samples x time)')\n",
    "y_fail=np.zeros((len(csv_failed)-1,1),dtype=int) # x_fail first element is empty\n",
    "y_pass=np.ones((len(csv_pass),1),dtype=int)\n",
    "y_fake=np.zeros((len(csv_fake),1),dtype=int)\n",
    "\n",
    "x_train_fail = sequence.pad_sequences(csv_failed_quantified, maxlen=300)\n",
    "x_train_pass = sequence.pad_sequences(csv_pass_quantified, maxlen=300)\n",
    "x_train_fake = sequence.pad_sequences(csv_fake_quantified, maxlen=300)\n",
    "\n",
    "print('x_train_fake',x_train_fake.shape)\n",
    "\n",
    "x_train_pass_random, useless1, y_train,useless =train_test_split(x_train_pass, y_pass,test_size=0.001, shuffle=True)\n",
    "print(len(x_train_pass_random))\n",
    "print(len(y_train))\n",
    "\n",
    "x_train_fail= np.delete(x_train_fail, (0), axis=0)\n",
    "x_dataset=np.concatenate((x_train_pass_random[0:(len(x_train_fail)+5000)],x_train_fail), axis=0)\n",
    "x_dataset=np.concatenate((x_dataset,x_train_fake[0:5000]), axis=0)\n",
    "y_dataset=np.concatenate((y_pass[0:(len(x_train_fail)+5000)],y_fail),axis=0)\n",
    "y_dataset=np.concatenate((y_dataset,y_fake[0:5000]),axis=0)\n",
    "print('x_train_pass shape:', x_train_pass.shape)\n",
    "print('x_train_fail shape:', x_train_fail.shape)\n",
    "print('x_train_fail',x_train_fail)\n",
    "print('x_train_fail type:', type(x_train_fail))\n",
    "print('x_train shape', x_dataset.shape)\n",
    "print('y_dataset shape',y_dataset.shape)\n",
    "print('x_dataset', x_dataset[5])\n",
    "print(y_dataset[891])"
   ]
  },
  {
   "cell_type": "code",
   "execution_count": 12,
   "metadata": {},
   "outputs": [
    {
     "data": {
      "text/plain": [
       "5905"
      ]
     },
     "execution_count": 12,
     "metadata": {},
     "output_type": "execute_result"
    }
   ],
   "source": [
    "(len(x_train_fail)+5000)"
   ]
  },
  {
   "cell_type": "code",
   "execution_count": 13,
   "metadata": {},
   "outputs": [
    {
     "ename": "IndexError",
     "evalue": "index 15430 is out of bounds for axis 0 with size 11810",
     "output_type": "error",
     "traceback": [
      "\u001b[1;31m---------------------------------------------------------------------------\u001b[0m",
      "\u001b[1;31mIndexError\u001b[0m                                Traceback (most recent call last)",
      "\u001b[1;32m<ipython-input-13-acca53b22f9e>\u001b[0m in \u001b[0;36m<module>\u001b[1;34m\u001b[0m\n\u001b[1;32m----> 1\u001b[1;33m \u001b[0mprint\u001b[0m\u001b[1;33m(\u001b[0m\u001b[0my_dataset\u001b[0m\u001b[1;33m[\u001b[0m\u001b[1;36m15430\u001b[0m\u001b[1;33m]\u001b[0m\u001b[1;33m)\u001b[0m\u001b[1;33m\u001b[0m\u001b[1;33m\u001b[0m\u001b[0m\n\u001b[0m",
      "\u001b[1;31mIndexError\u001b[0m: index 15430 is out of bounds for axis 0 with size 11810"
     ]
    }
   ],
   "source": [
    "print(y_dataset[15430])"
   ]
  },
  {
   "cell_type": "code",
   "execution_count": 57,
   "metadata": {},
   "outputs": [
    {
     "name": "stdout",
     "output_type": "stream",
     "text": [
      "x_train shape (9448, 300)\n",
      "x_test shape (2362, 300)\n",
      "y_train:\n",
      " [[1]\n",
      " [1]\n",
      " [1]\n",
      " ...\n",
      " [1]\n",
      " [0]\n",
      " [1]]\n",
      "y_train shape (9448, 1)\n"
     ]
    }
   ],
   "source": [
    "x_train, x_test, y_train, y_test =train_test_split(x_dataset,y_dataset,test_size=0.20, shuffle=True)\n",
    "print('x_train shape',x_train.shape)\n",
    "print('x_test shape',x_test.shape)\n",
    "print('y_train:\\n', y_train)\n",
    "print('y_train shape', y_train.shape)"
   ]
  },
  {
   "cell_type": "code",
   "execution_count": 58,
   "metadata": {},
   "outputs": [
    {
     "name": "stdout",
     "output_type": "stream",
     "text": [
      "<keras.initializers.RandomNormal object at 0x000001CF97545E48>\n"
     ]
    }
   ],
   "source": [
    "SEED= 88\n",
    "Gaussian=keras.initializers.RandomNormal(mean=0.0, stddev=0.05, seed=SEED)\n",
    "print(Gaussian)"
   ]
  },
  {
   "cell_type": "code",
   "execution_count": 59,
   "metadata": {},
   "outputs": [
    {
     "name": "stdout",
     "output_type": "stream",
     "text": [
      "_________________________________________________________________\n",
      "Layer (type)                 Output Shape              Param #   \n",
      "=================================================================\n",
      "input_13 (InputLayer)        (None, 300)               0         \n",
      "_________________________________________________________________\n",
      "embedding_13 (Embedding)     (None, 300, 40)           1600      \n",
      "_________________________________________________________________\n",
      "lstm_13 (LSTM)               (None, 150)               114600    \n",
      "_________________________________________________________________\n",
      "dense_13 (Dense)             (None, 1)                 151       \n",
      "=================================================================\n",
      "Total params: 116,351\n",
      "Trainable params: 116,351\n",
      "Non-trainable params: 0\n",
      "_________________________________________________________________\n"
     ]
    }
   ],
   "source": [
    "\n",
    "max_features = 40 # max dictionary value +1\n",
    "batch_size = 64   # recommend small batch size\n",
    "#model = Sequential() \n",
    "#model.add(Embedding(max_features, 40,mask_zero=True))    # with mask_zero = True \n",
    "#model.add(LSTM(90, dropout=0.2, recurrent_dropout=0.2))# lSTM size = 128 , dropout= 0.15  no specification = output the hidden layer squence\n",
    "#model.add(Dense(32, activation='relu',input_shape=(,)))      # add another FC layer increase size from 32 to 64\n",
    "#model.add(Dense(1, activation='sigmoid'))\n",
    "\n",
    "\n",
    "a=Input(shape=(300,))\n",
    "x=Embedding(max_features, 40,mask_zero=True, embeddings_initializer=Gaussian)(a)\n",
    "x=LSTM(150,dropout=0.2, recurrent_dropout=0.2,kernel_initializer=Gaussian,recurrent_initializer=Gaussian,)(x)\n",
    "#x=BatchNormalization()(x)\n",
    "x=Dense(1, activation='sigmoid',kernel_initializer=Gaussian, bias_initializer=Gaussian,)(x)\n",
    "model = Model(inputs=a, outputs=x)\n",
    "\n",
    "#adam =optimizers.Adam(lr=0.0001, decay=1e-6, momentum=0.9, nesterov=True)\n",
    "#opt =optimizers.Adam(lr=0.0001)\n",
    "#opt =optimizers.SGD(lr=0.0000001)\n",
    "# try using different optimizers and different optimizer configs\n",
    "#opt=optimizers.RMSprop(lr=0.00001, rho=0.9, epsilon=None, decay=0.0)  # the result looks pretty good\n",
    "#opt=optimizers.Adagrad(lr=0.0001, epsilon=None, decay=0.0)\n",
    "#opt=optimizers.Adadelta(lr=0.01, rho=0.95, epsilon=None, decay=0.0)\n",
    "#opt=optimizers.Adamax(lr=0.0001, beta_1=0.9, beta_2=0.999, epsilon=None, decay=0.0)  lr=0.015\n",
    "opt=optimizers.Nadam(lr=0.015,beta_1=0.9, beta_2=0.999, epsilon=None, schedule_decay=0.001)  # this optimizers works best learning rate 0.0004\n",
    "model.compile(loss='binary_crossentropy',\n",
    "              optimizer=opt,\n",
    "              metrics=['accuracy'])\n",
    "\n",
    "\n",
    "model.summary()\n",
    "\n",
    "\n",
    "# the result is quite strange need to be disccused, it increase and vastly decrease repeatly"
   ]
  },
  {
   "cell_type": "code",
   "execution_count": 60,
   "metadata": {
    "scrolled": false
   },
   "outputs": [
    {
     "name": "stdout",
     "output_type": "stream",
     "text": [
      "Train...\n",
      "Train on 8503 samples, validate on 945 samples\n",
      "Epoch 1/80\n",
      "<keras.layers.embeddings.Embedding object at 0x000001CFBFB86CC0> [array([[ 0.01590319,  0.0089926 ,  0.05777817, ..., -0.00643851,\n",
      "        -0.05255476,  0.06410234],\n",
      "       [-0.05205625,  0.04765066,  0.03301794, ...,  0.05630795,\n",
      "         0.05194858, -0.09096726],\n",
      "       [-0.06935751, -0.01299663, -0.04371159, ...,  0.01011832,\n",
      "        -0.05091134,  0.00365247],\n",
      "       ...,\n",
      "       [-0.02138737, -0.02082935, -0.00624331, ...,  0.02869445,\n",
      "         0.02029893,  0.02987001],\n",
      "       [-0.01779464, -0.00713421, -0.11313861, ..., -0.03045195,\n",
      "        -0.01735777,  0.01484854],\n",
      "       [-0.00640762,  0.05521934, -0.07771069, ..., -0.05565212,\n",
      "         0.03380339,  0.01212587]], dtype=float32)] <keras.layers.recurrent.LSTM object at 0x000001CFBFB86E10> [array([[ 0.01590319,  0.0089926 ,  0.05777817, ...,  0.03327012,\n",
      "         0.03906622,  0.06537933],\n",
      "       [-0.02309811,  0.00142938,  0.05841622, ...,  0.00107745,\n",
      "         0.03959153, -0.07146489],\n",
      "       [-0.06650431,  0.09288166, -0.04448123, ...,  0.05377531,\n",
      "        -0.01721073, -0.00632697],\n",
      "       ...,\n",
      "       [ 0.01057247,  0.01034499, -0.00402665, ...,  0.04130454,\n",
      "         0.07526166,  0.04400718],\n",
      "       [-0.0485724 ,  0.00962961,  0.01724256, ...,  0.01485333,\n",
      "        -0.04019882,  0.03732974],\n",
      "       [-0.06549937, -0.04586951, -0.09859391, ...,  0.0490916 ,\n",
      "        -0.0356213 , -0.06294908]], dtype=float32), array([[ 0.01590319,  0.0089926 ,  0.05777817, ...,  0.03327012,\n",
      "         0.03906622,  0.06537933],\n",
      "       [-0.02309811,  0.00142938,  0.05841622, ...,  0.00107745,\n",
      "         0.03959153, -0.07146489],\n",
      "       [-0.06650431,  0.09288166, -0.04448123, ...,  0.05377531,\n",
      "        -0.01721073, -0.00632697],\n",
      "       ...,\n",
      "       [ 0.05165287,  0.0365244 ,  0.00541407, ..., -0.03781459,\n",
      "         0.05643208, -0.00219336],\n",
      "       [ 0.07539814,  0.01160432, -0.05516954, ..., -0.03397795,\n",
      "        -0.04854088,  0.02414574],\n",
      "       [-0.00277804, -0.0229762 , -0.0481375 , ..., -0.10940047,\n",
      "         0.01841007,  0.02577247]], dtype=float32), array([0., 0., 0., 0., 0., 0., 0., 0., 0., 0., 0., 0., 0., 0., 0., 0., 0.,\n",
      "       0., 0., 0., 0., 0., 0., 0., 0., 0., 0., 0., 0., 0., 0., 0., 0., 0.,\n",
      "       0., 0., 0., 0., 0., 0., 0., 0., 0., 0., 0., 0., 0., 0., 0., 0., 0.,\n",
      "       0., 0., 0., 0., 0., 0., 0., 0., 0., 0., 0., 0., 0., 0., 0., 0., 0.,\n",
      "       0., 0., 0., 0., 0., 0., 0., 0., 0., 0., 0., 0., 0., 0., 0., 0., 0.,\n",
      "       0., 0., 0., 0., 0., 0., 0., 0., 0., 0., 0., 0., 0., 0., 0., 0., 0.,\n",
      "       0., 0., 0., 0., 0., 0., 0., 0., 0., 0., 0., 0., 0., 0., 0., 0., 0.,\n",
      "       0., 0., 0., 0., 0., 0., 0., 0., 0., 0., 0., 0., 0., 0., 0., 0., 0.,\n",
      "       0., 0., 0., 0., 0., 0., 0., 0., 0., 0., 0., 0., 0., 0., 1., 1., 1.,\n",
      "       1., 1., 1., 1., 1., 1., 1., 1., 1., 1., 1., 1., 1., 1., 1., 1., 1.,\n",
      "       1., 1., 1., 1., 1., 1., 1., 1., 1., 1., 1., 1., 1., 1., 1., 1., 1.,\n",
      "       1., 1., 1., 1., 1., 1., 1., 1., 1., 1., 1., 1., 1., 1., 1., 1., 1.,\n",
      "       1., 1., 1., 1., 1., 1., 1., 1., 1., 1., 1., 1., 1., 1., 1., 1., 1.,\n",
      "       1., 1., 1., 1., 1., 1., 1., 1., 1., 1., 1., 1., 1., 1., 1., 1., 1.,\n",
      "       1., 1., 1., 1., 1., 1., 1., 1., 1., 1., 1., 1., 1., 1., 1., 1., 1.,\n",
      "       1., 1., 1., 1., 1., 1., 1., 1., 1., 1., 1., 1., 1., 1., 1., 1., 1.,\n",
      "       1., 1., 1., 1., 1., 1., 1., 1., 1., 1., 1., 1., 1., 1., 1., 1., 1.,\n",
      "       1., 1., 1., 1., 1., 1., 1., 1., 1., 1., 1., 0., 0., 0., 0., 0., 0.,\n",
      "       0., 0., 0., 0., 0., 0., 0., 0., 0., 0., 0., 0., 0., 0., 0., 0., 0.,\n",
      "       0., 0., 0., 0., 0., 0., 0., 0., 0., 0., 0., 0., 0., 0., 0., 0., 0.,\n",
      "       0., 0., 0., 0., 0., 0., 0., 0., 0., 0., 0., 0., 0., 0., 0., 0., 0.,\n",
      "       0., 0., 0., 0., 0., 0., 0., 0., 0., 0., 0., 0., 0., 0., 0., 0., 0.,\n",
      "       0., 0., 0., 0., 0., 0., 0., 0., 0., 0., 0., 0., 0., 0., 0., 0., 0.,\n",
      "       0., 0., 0., 0., 0., 0., 0., 0., 0., 0., 0., 0., 0., 0., 0., 0., 0.,\n",
      "       0., 0., 0., 0., 0., 0., 0., 0., 0., 0., 0., 0., 0., 0., 0., 0., 0.,\n",
      "       0., 0., 0., 0., 0., 0., 0., 0., 0., 0., 0., 0., 0., 0., 0., 0., 0.,\n",
      "       0., 0., 0., 0., 0., 0., 0., 0., 0., 0., 0., 0., 0., 0., 0., 0., 0.,\n",
      "       0., 0., 0., 0., 0., 0., 0., 0., 0., 0., 0., 0., 0., 0., 0., 0., 0.,\n",
      "       0., 0., 0., 0., 0., 0., 0., 0., 0., 0., 0., 0., 0., 0., 0., 0., 0.,\n",
      "       0., 0., 0., 0., 0., 0., 0., 0., 0., 0., 0., 0., 0., 0., 0., 0., 0.,\n",
      "       0., 0., 0., 0., 0., 0., 0., 0., 0., 0., 0., 0., 0., 0., 0., 0., 0.,\n",
      "       0., 0., 0., 0., 0., 0., 0., 0., 0., 0., 0., 0., 0., 0., 0., 0., 0.,\n",
      "       0., 0., 0., 0., 0., 0., 0., 0., 0., 0., 0., 0., 0., 0., 0., 0., 0.,\n",
      "       0., 0., 0., 0., 0., 0., 0., 0., 0., 0., 0., 0., 0., 0., 0., 0., 0.,\n",
      "       0., 0., 0., 0., 0., 0., 0., 0., 0., 0., 0., 0., 0., 0., 0., 0., 0.,\n",
      "       0., 0., 0., 0., 0.], dtype=float32)] <keras.layers.core.Dense object at 0x000001CFBFB86FD0> [array([[ 0.01590319],\n",
      "       [ 0.0089926 ],\n",
      "       [ 0.05777817],\n",
      "       [ 0.03807152],\n",
      "       [ 0.01976082],\n",
      "       [ 0.00173591],\n",
      "       [ 0.10075875],\n",
      "       [ 0.03523451],\n",
      "       [ 0.01773896],\n",
      "       [-0.0281917 ],\n",
      "       [-0.09224473],\n",
      "       [-0.03664634],\n",
      "       [ 0.03130731],\n",
      "       [-0.0072163 ],\n",
      "       [ 0.03635544],\n",
      "       [-0.0327942 ],\n",
      "       [-0.1170181 ],\n",
      "       [ 0.02154105],\n",
      "       [-0.08847786],\n",
      "       [ 0.06566431],\n",
      "       [-0.03534334],\n",
      "       [ 0.01139305],\n",
      "       [ 0.04019944],\n",
      "       [ 0.08302914],\n",
      "       [ 0.01666123],\n",
      "       [-0.03293202],\n",
      "       [-0.15387605],\n",
      "       [-0.0425381 ],\n",
      "       [-0.07462912],\n",
      "       [ 0.0404068 ],\n",
      "       [ 0.03480047],\n",
      "       [ 0.08442613],\n",
      "       [ 0.01134562],\n",
      "       [ 0.02662014],\n",
      "       [ 0.00946924],\n",
      "       [ 0.01523628],\n",
      "       [-0.01768441],\n",
      "       [-0.00643851],\n",
      "       [-0.05255476],\n",
      "       [ 0.06410234],\n",
      "       [-0.05205625],\n",
      "       [ 0.04765066],\n",
      "       [ 0.03301794],\n",
      "       [-0.06804597],\n",
      "       [-0.04491378],\n",
      "       [-0.02138161],\n",
      "       [-0.03346525],\n",
      "       [ 0.01301165],\n",
      "       [-0.03850504],\n",
      "       [-0.04543932],\n",
      "       [-0.03435451],\n",
      "       [-0.00163604],\n",
      "       [ 0.13538764],\n",
      "       [ 0.0877473 ],\n",
      "       [ 0.00368614],\n",
      "       [-0.06929115],\n",
      "       [ 0.0582768 ],\n",
      "       [-0.00084015],\n",
      "       [-0.07007729],\n",
      "       [ 0.00795538],\n",
      "       [ 0.0132691 ],\n",
      "       [-0.08692195],\n",
      "       [-0.050024  ],\n",
      "       [-0.02498369],\n",
      "       [-0.05781389],\n",
      "       [-0.02988791],\n",
      "       [ 0.1174446 ],\n",
      "       [-0.07653012],\n",
      "       [ 0.02981801],\n",
      "       [ 0.0304382 ],\n",
      "       [ 0.01577124],\n",
      "       [ 0.00584934],\n",
      "       [ 0.09989936],\n",
      "       [-0.01379848],\n",
      "       [-0.04628055],\n",
      "       [ 0.06889928],\n",
      "       [ 0.01516905],\n",
      "       [ 0.05630795],\n",
      "       [ 0.05194858],\n",
      "       [-0.09096726],\n",
      "       [-0.06935751],\n",
      "       [-0.01299663],\n",
      "       [-0.04371159],\n",
      "       [ 0.0552554 ],\n",
      "       [ 0.08275422],\n",
      "       [ 0.0573447 ],\n",
      "       [-0.06188185],\n",
      "       [ 0.00620057],\n",
      "       [-0.06403489],\n",
      "       [-0.0280967 ],\n",
      "       [ 0.03052025],\n",
      "       [-0.02529541],\n",
      "       [ 0.07533938],\n",
      "       [ 0.03447753],\n",
      "       [-0.01643822],\n",
      "       [ 0.02413066],\n",
      "       [-0.02613247],\n",
      "       [-0.02343946],\n",
      "       [ 0.03972514],\n",
      "       [-0.01965763],\n",
      "       [ 0.03702376],\n",
      "       [ 0.0392214 ],\n",
      "       [ 0.02974533],\n",
      "       [ 0.00921023],\n",
      "       [-0.0741422 ],\n",
      "       [-0.08296736],\n",
      "       [ 0.01533139],\n",
      "       [ 0.03462962],\n",
      "       [ 0.11994552],\n",
      "       [-0.03195322],\n",
      "       [-0.04518973],\n",
      "       [ 0.01975651],\n",
      "       [ 0.11311843],\n",
      "       [ 0.02346019],\n",
      "       [ 0.00903782],\n",
      "       [-0.02016739],\n",
      "       [-0.0509828 ],\n",
      "       [ 0.01011832],\n",
      "       [-0.05091134],\n",
      "       [ 0.00365247],\n",
      "       [ 0.02439304],\n",
      "       [ 0.00492406],\n",
      "       [-0.02373513],\n",
      "       [-0.0285286 ],\n",
      "       [ 0.02227744],\n",
      "       [-0.02309618],\n",
      "       [-0.03026292],\n",
      "       [-0.02903637],\n",
      "       [-0.01347601],\n",
      "       [ 0.05573972],\n",
      "       [ 0.01039968],\n",
      "       [ 0.03050383],\n",
      "       [ 0.01358658],\n",
      "       [ 0.0478792 ],\n",
      "       [ 0.05325639],\n",
      "       [ 0.03659052],\n",
      "       [ 0.04024456],\n",
      "       [ 0.04526262],\n",
      "       [-0.00819147],\n",
      "       [-0.05734273],\n",
      "       [-0.11892492],\n",
      "       [-0.00565007],\n",
      "       [ 0.02550728],\n",
      "       [ 0.00839503],\n",
      "       [-0.04989605],\n",
      "       [ 0.09342367],\n",
      "       [ 0.01373464],\n",
      "       [-0.00534269],\n",
      "       [ 0.03270138],\n",
      "       [-0.0912559 ]], dtype=float32), array([0.01590319], dtype=float32)]\n",
      " 192/8503 [..............................] - ETA: 4:52 - loss: 0.6953 - acc: 0.4688"
     ]
    },
    {
     "ename": "KeyboardInterrupt",
     "evalue": "",
     "output_type": "error",
     "traceback": [
      "\u001b[1;31m---------------------------------------------------------------------------\u001b[0m",
      "\u001b[1;31mKeyboardInterrupt\u001b[0m                         Traceback (most recent call last)",
      "\u001b[1;32m<ipython-input-60-88b83bff799d>\u001b[0m in \u001b[0;36m<module>\u001b[1;34m\u001b[0m\n\u001b[0;32m     23\u001b[0m           \u001b[1;31m#validation_data=(x_test, y_test),\u001b[0m\u001b[1;33m\u001b[0m\u001b[1;33m\u001b[0m\u001b[1;33m\u001b[0m\u001b[0m\n\u001b[0;32m     24\u001b[0m           \u001b[0mvalidation_split\u001b[0m\u001b[1;33m=\u001b[0m\u001b[1;36m0.1\u001b[0m\u001b[1;33m,\u001b[0m\u001b[1;33m\u001b[0m\u001b[1;33m\u001b[0m\u001b[0m\n\u001b[1;32m---> 25\u001b[1;33m           \u001b[0mcallbacks\u001b[0m\u001b[1;33m=\u001b[0m\u001b[1;33m[\u001b[0m\u001b[0mchange_lr\u001b[0m\u001b[1;33m,\u001b[0m\u001b[0mearlyStopping\u001b[0m\u001b[1;33m,\u001b[0m\u001b[0mcheckpointer\u001b[0m\u001b[1;33m,\u001b[0m\u001b[0mprint_weights\u001b[0m\u001b[1;33m]\u001b[0m\u001b[1;33m,\u001b[0m\u001b[1;33m\u001b[0m\u001b[1;33m\u001b[0m\u001b[0m\n\u001b[0m\u001b[0;32m     26\u001b[0m             )\n\u001b[0;32m     27\u001b[0m \u001b[1;33m\u001b[0m\u001b[0m\n",
      "\u001b[1;32m~\\AppData\\Local\\Continuum\\anaconda3\\envs\\keras\\lib\\site-packages\\keras\\engine\\training.py\u001b[0m in \u001b[0;36mfit\u001b[1;34m(self, x, y, batch_size, epochs, verbose, callbacks, validation_split, validation_data, shuffle, class_weight, sample_weight, initial_epoch, steps_per_epoch, validation_steps, **kwargs)\u001b[0m\n\u001b[0;32m   1037\u001b[0m                                         \u001b[0minitial_epoch\u001b[0m\u001b[1;33m=\u001b[0m\u001b[0minitial_epoch\u001b[0m\u001b[1;33m,\u001b[0m\u001b[1;33m\u001b[0m\u001b[1;33m\u001b[0m\u001b[0m\n\u001b[0;32m   1038\u001b[0m                                         \u001b[0msteps_per_epoch\u001b[0m\u001b[1;33m=\u001b[0m\u001b[0msteps_per_epoch\u001b[0m\u001b[1;33m,\u001b[0m\u001b[1;33m\u001b[0m\u001b[1;33m\u001b[0m\u001b[0m\n\u001b[1;32m-> 1039\u001b[1;33m                                         validation_steps=validation_steps)\n\u001b[0m\u001b[0;32m   1040\u001b[0m \u001b[1;33m\u001b[0m\u001b[0m\n\u001b[0;32m   1041\u001b[0m     def evaluate(self, x=None, y=None,\n",
      "\u001b[1;32m~\\AppData\\Local\\Continuum\\anaconda3\\envs\\keras\\lib\\site-packages\\keras\\engine\\training_arrays.py\u001b[0m in \u001b[0;36mfit_loop\u001b[1;34m(model, f, ins, out_labels, batch_size, epochs, verbose, callbacks, val_f, val_ins, shuffle, callback_metrics, initial_epoch, steps_per_epoch, validation_steps)\u001b[0m\n\u001b[0;32m    197\u001b[0m                     \u001b[0mins_batch\u001b[0m\u001b[1;33m[\u001b[0m\u001b[0mi\u001b[0m\u001b[1;33m]\u001b[0m \u001b[1;33m=\u001b[0m \u001b[0mins_batch\u001b[0m\u001b[1;33m[\u001b[0m\u001b[0mi\u001b[0m\u001b[1;33m]\u001b[0m\u001b[1;33m.\u001b[0m\u001b[0mtoarray\u001b[0m\u001b[1;33m(\u001b[0m\u001b[1;33m)\u001b[0m\u001b[1;33m\u001b[0m\u001b[1;33m\u001b[0m\u001b[0m\n\u001b[0;32m    198\u001b[0m \u001b[1;33m\u001b[0m\u001b[0m\n\u001b[1;32m--> 199\u001b[1;33m                 \u001b[0mouts\u001b[0m \u001b[1;33m=\u001b[0m \u001b[0mf\u001b[0m\u001b[1;33m(\u001b[0m\u001b[0mins_batch\u001b[0m\u001b[1;33m)\u001b[0m\u001b[1;33m\u001b[0m\u001b[1;33m\u001b[0m\u001b[0m\n\u001b[0m\u001b[0;32m    200\u001b[0m                 \u001b[0mouts\u001b[0m \u001b[1;33m=\u001b[0m \u001b[0mto_list\u001b[0m\u001b[1;33m(\u001b[0m\u001b[0mouts\u001b[0m\u001b[1;33m)\u001b[0m\u001b[1;33m\u001b[0m\u001b[1;33m\u001b[0m\u001b[0m\n\u001b[0;32m    201\u001b[0m                 \u001b[1;32mfor\u001b[0m \u001b[0ml\u001b[0m\u001b[1;33m,\u001b[0m \u001b[0mo\u001b[0m \u001b[1;32min\u001b[0m \u001b[0mzip\u001b[0m\u001b[1;33m(\u001b[0m\u001b[0mout_labels\u001b[0m\u001b[1;33m,\u001b[0m \u001b[0mouts\u001b[0m\u001b[1;33m)\u001b[0m\u001b[1;33m:\u001b[0m\u001b[1;33m\u001b[0m\u001b[1;33m\u001b[0m\u001b[0m\n",
      "\u001b[1;32m~\\AppData\\Local\\Continuum\\anaconda3\\envs\\keras\\lib\\site-packages\\keras\\backend\\tensorflow_backend.py\u001b[0m in \u001b[0;36m__call__\u001b[1;34m(self, inputs)\u001b[0m\n\u001b[0;32m   2713\u001b[0m                 \u001b[1;32mreturn\u001b[0m \u001b[0mself\u001b[0m\u001b[1;33m.\u001b[0m\u001b[0m_legacy_call\u001b[0m\u001b[1;33m(\u001b[0m\u001b[0minputs\u001b[0m\u001b[1;33m)\u001b[0m\u001b[1;33m\u001b[0m\u001b[1;33m\u001b[0m\u001b[0m\n\u001b[0;32m   2714\u001b[0m \u001b[1;33m\u001b[0m\u001b[0m\n\u001b[1;32m-> 2715\u001b[1;33m             \u001b[1;32mreturn\u001b[0m \u001b[0mself\u001b[0m\u001b[1;33m.\u001b[0m\u001b[0m_call\u001b[0m\u001b[1;33m(\u001b[0m\u001b[0minputs\u001b[0m\u001b[1;33m)\u001b[0m\u001b[1;33m\u001b[0m\u001b[1;33m\u001b[0m\u001b[0m\n\u001b[0m\u001b[0;32m   2716\u001b[0m         \u001b[1;32melse\u001b[0m\u001b[1;33m:\u001b[0m\u001b[1;33m\u001b[0m\u001b[1;33m\u001b[0m\u001b[0m\n\u001b[0;32m   2717\u001b[0m             \u001b[1;32mif\u001b[0m \u001b[0mpy_any\u001b[0m\u001b[1;33m(\u001b[0m\u001b[0mis_tensor\u001b[0m\u001b[1;33m(\u001b[0m\u001b[0mx\u001b[0m\u001b[1;33m)\u001b[0m \u001b[1;32mfor\u001b[0m \u001b[0mx\u001b[0m \u001b[1;32min\u001b[0m \u001b[0minputs\u001b[0m\u001b[1;33m)\u001b[0m\u001b[1;33m:\u001b[0m\u001b[1;33m\u001b[0m\u001b[1;33m\u001b[0m\u001b[0m\n",
      "\u001b[1;32m~\\AppData\\Local\\Continuum\\anaconda3\\envs\\keras\\lib\\site-packages\\keras\\backend\\tensorflow_backend.py\u001b[0m in \u001b[0;36m_call\u001b[1;34m(self, inputs)\u001b[0m\n\u001b[0;32m   2673\u001b[0m             \u001b[0mfetched\u001b[0m \u001b[1;33m=\u001b[0m \u001b[0mself\u001b[0m\u001b[1;33m.\u001b[0m\u001b[0m_callable_fn\u001b[0m\u001b[1;33m(\u001b[0m\u001b[1;33m*\u001b[0m\u001b[0marray_vals\u001b[0m\u001b[1;33m,\u001b[0m \u001b[0mrun_metadata\u001b[0m\u001b[1;33m=\u001b[0m\u001b[0mself\u001b[0m\u001b[1;33m.\u001b[0m\u001b[0mrun_metadata\u001b[0m\u001b[1;33m)\u001b[0m\u001b[1;33m\u001b[0m\u001b[1;33m\u001b[0m\u001b[0m\n\u001b[0;32m   2674\u001b[0m         \u001b[1;32melse\u001b[0m\u001b[1;33m:\u001b[0m\u001b[1;33m\u001b[0m\u001b[1;33m\u001b[0m\u001b[0m\n\u001b[1;32m-> 2675\u001b[1;33m             \u001b[0mfetched\u001b[0m \u001b[1;33m=\u001b[0m \u001b[0mself\u001b[0m\u001b[1;33m.\u001b[0m\u001b[0m_callable_fn\u001b[0m\u001b[1;33m(\u001b[0m\u001b[1;33m*\u001b[0m\u001b[0marray_vals\u001b[0m\u001b[1;33m)\u001b[0m\u001b[1;33m\u001b[0m\u001b[1;33m\u001b[0m\u001b[0m\n\u001b[0m\u001b[0;32m   2676\u001b[0m         \u001b[1;32mreturn\u001b[0m \u001b[0mfetched\u001b[0m\u001b[1;33m[\u001b[0m\u001b[1;33m:\u001b[0m\u001b[0mlen\u001b[0m\u001b[1;33m(\u001b[0m\u001b[0mself\u001b[0m\u001b[1;33m.\u001b[0m\u001b[0moutputs\u001b[0m\u001b[1;33m)\u001b[0m\u001b[1;33m]\u001b[0m\u001b[1;33m\u001b[0m\u001b[1;33m\u001b[0m\u001b[0m\n\u001b[0;32m   2677\u001b[0m \u001b[1;33m\u001b[0m\u001b[0m\n",
      "\u001b[1;32m~\\AppData\\Local\\Continuum\\anaconda3\\envs\\keras\\lib\\site-packages\\tensorflow\\python\\client\\session.py\u001b[0m in \u001b[0;36m__call__\u001b[1;34m(self, *args, **kwargs)\u001b[0m\n\u001b[0;32m   1437\u001b[0m           ret = tf_session.TF_SessionRunCallable(\n\u001b[0;32m   1438\u001b[0m               \u001b[0mself\u001b[0m\u001b[1;33m.\u001b[0m\u001b[0m_session\u001b[0m\u001b[1;33m.\u001b[0m\u001b[0m_session\u001b[0m\u001b[1;33m,\u001b[0m \u001b[0mself\u001b[0m\u001b[1;33m.\u001b[0m\u001b[0m_handle\u001b[0m\u001b[1;33m,\u001b[0m \u001b[0margs\u001b[0m\u001b[1;33m,\u001b[0m \u001b[0mstatus\u001b[0m\u001b[1;33m,\u001b[0m\u001b[1;33m\u001b[0m\u001b[1;33m\u001b[0m\u001b[0m\n\u001b[1;32m-> 1439\u001b[1;33m               run_metadata_ptr)\n\u001b[0m\u001b[0;32m   1440\u001b[0m         \u001b[1;32mif\u001b[0m \u001b[0mrun_metadata\u001b[0m\u001b[1;33m:\u001b[0m\u001b[1;33m\u001b[0m\u001b[1;33m\u001b[0m\u001b[0m\n\u001b[0;32m   1441\u001b[0m           \u001b[0mproto_data\u001b[0m \u001b[1;33m=\u001b[0m \u001b[0mtf_session\u001b[0m\u001b[1;33m.\u001b[0m\u001b[0mTF_GetBuffer\u001b[0m\u001b[1;33m(\u001b[0m\u001b[0mrun_metadata_ptr\u001b[0m\u001b[1;33m)\u001b[0m\u001b[1;33m\u001b[0m\u001b[1;33m\u001b[0m\u001b[0m\n",
      "\u001b[1;31mKeyboardInterrupt\u001b[0m: "
     ]
    }
   ],
   "source": [
    "def create_model_checkpoint(dir, model_name):\n",
    "    filepath = dir + '/' + model_name + \".h5\" \n",
    "    directory = os.path.dirname(filepath)\n",
    "    try:\n",
    "        os.stat(directory)\n",
    "    except:\n",
    "        os.mkdir(directory)\n",
    "    checkpointer = ModelCheckpoint(filepath=filepath, verbose=1, save_best_only=True)\n",
    "    return checkpointer\n",
    "\n",
    "checkpointer = create_model_checkpoint('C:\\MasterThesis\\python\\model_saved', 'data_augmentaion_5000_lstm_emb_40_')\n",
    "print_weights = LambdaCallback(on_epoch_begin=lambda batch, logs: print(model.layers[1],model.layers[1].get_weights(),model.layers[2],model.layers[2].get_weights(),model.layers[3],model.layers[3].get_weights()))\n",
    "\n",
    "print('Train...')\n",
    "\n",
    "change_lr=ReduceLROnPlateau(monitor='val_loss', factor=0.7, patience=4, verbose=1, mode='auto', min_delta=0.0001, cooldown=0, min_lr=0)\n",
    "earlyStopping = keras.callbacks.EarlyStopping(monitor='loss', patience=7, verbose=1, mode='auto',restore_best_weights=True)\n",
    "history = model.fit(x_train, y_train,\n",
    "          batch_size=batch_size,\n",
    "          epochs=80,\n",
    "          shuffle=True,\n",
    "          verbose=1,\n",
    "          #validation_data=(x_test, y_test),\n",
    "          validation_split=0.1,\n",
    "          callbacks=[change_lr,earlyStopping,checkpointer,print_weights],\n",
    "            )\n",
    "\n"
   ]
  },
  {
   "cell_type": "code",
   "execution_count": 133,
   "metadata": {
    "scrolled": true
   },
   "outputs": [
    {
     "name": "stdout",
     "output_type": "stream",
     "text": [
      "Train...\n",
      "Train on 8503 samples, validate on 945 samples\n",
      "Epoch 1/80\n",
      "8503/8503 [==============================] - 167s 20ms/step - loss: 0.4877 - acc: 0.7530 - val_loss: 0.2498 - val_acc: 0.9101\n",
      "\n",
      "Epoch 00001: val_loss improved from inf to 0.24980, saving model to C:\\MasterThesis\\python\\model_saved/data_augmentaion_15000_lstm_emb_40_.h5\n",
      "Epoch 2/80\n",
      "8503/8503 [==============================] - 168s 20ms/step - loss: 0.2351 - acc: 0.9197 - val_loss: 0.2560 - val_acc: 0.9101\n",
      "\n",
      "Epoch 00002: val_loss did not improve from 0.24980\n",
      "Epoch 3/80\n",
      "8503/8503 [==============================] - 170s 20ms/step - loss: 0.2232 - acc: 0.9233 - val_loss: 0.2435 - val_acc: 0.9111\n",
      "\n",
      "Epoch 00003: val_loss improved from 0.24980 to 0.24351, saving model to C:\\MasterThesis\\python\\model_saved/data_augmentaion_15000_lstm_emb_40_.h5\n",
      "Epoch 4/80\n",
      "8503/8503 [==============================] - 170s 20ms/step - loss: 0.2206 - acc: 0.9239 - val_loss: 0.2448 - val_acc: 0.9111\n",
      "\n",
      "Epoch 00004: val_loss did not improve from 0.24351\n",
      "Epoch 5/80\n",
      "8503/8503 [==============================] - 171s 20ms/step - loss: 0.2135 - acc: 0.9240 - val_loss: 0.2547 - val_acc: 0.9111\n",
      "\n",
      "Epoch 00005: val_loss did not improve from 0.24351\n",
      "Epoch 6/80\n",
      "8503/8503 [==============================] - 171s 20ms/step - loss: 0.2372 - acc: 0.9145 - val_loss: 2.3630 - val_acc: 0.5196\n",
      "\n",
      "Epoch 00006: val_loss did not improve from 0.24351\n",
      "Epoch 7/80\n",
      "8503/8503 [==============================] - 172s 20ms/step - loss: 0.5810 - acc: 0.7486 - val_loss: 0.3748 - val_acc: 0.8402\n",
      "\n",
      "Epoch 00007: ReduceLROnPlateau reducing learning rate to 0.01049999976530671.\n",
      "\n",
      "Epoch 00007: val_loss did not improve from 0.24351\n",
      "Epoch 8/80\n",
      "8503/8503 [==============================] - 174s 20ms/step - loss: 0.2851 - acc: 0.8883 - val_loss: 0.2446 - val_acc: 0.8921\n",
      "\n",
      "Epoch 00008: val_loss did not improve from 0.24351\n",
      "Epoch 9/80\n",
      "8503/8503 [==============================] - 174s 20ms/step - loss: 0.2428 - acc: 0.9031 - val_loss: 0.2280 - val_acc: 0.9069\n",
      "\n",
      "Epoch 00009: val_loss improved from 0.24351 to 0.22804, saving model to C:\\MasterThesis\\python\\model_saved/data_augmentaion_15000_lstm_emb_40_.h5\n",
      "Epoch 10/80\n",
      "8503/8503 [==============================] - 175s 21ms/step - loss: 0.2041 - acc: 0.9198 - val_loss: 0.2052 - val_acc: 0.9026\n",
      "\n",
      "Epoch 00010: val_loss improved from 0.22804 to 0.20522, saving model to C:\\MasterThesis\\python\\model_saved/data_augmentaion_15000_lstm_emb_40_.h5\n",
      "Epoch 11/80\n",
      "8503/8503 [==============================] - 173s 20ms/step - loss: 0.1881 - acc: 0.9232 - val_loss: 0.2062 - val_acc: 0.9090\n",
      "\n",
      "Epoch 00011: val_loss did not improve from 0.20522\n",
      "Epoch 12/80\n",
      "8503/8503 [==============================] - 175s 21ms/step - loss: 0.1872 - acc: 0.9224 - val_loss: 0.1950 - val_acc: 0.9132\n",
      "\n",
      "Epoch 00012: val_loss improved from 0.20522 to 0.19497, saving model to C:\\MasterThesis\\python\\model_saved/data_augmentaion_15000_lstm_emb_40_.h5\n",
      "Epoch 13/80\n",
      "8503/8503 [==============================] - 174s 20ms/step - loss: 0.1814 - acc: 0.9245 - val_loss: 0.2003 - val_acc: 0.9005\n",
      "\n",
      "Epoch 00013: val_loss did not improve from 0.19497\n",
      "Epoch 14/80\n",
      "8503/8503 [==============================] - 175s 21ms/step - loss: 0.1864 - acc: 0.9225 - val_loss: 0.2046 - val_acc: 0.9111\n",
      "\n",
      "Epoch 00014: val_loss did not improve from 0.19497\n",
      "Epoch 15/80\n",
      "8503/8503 [==============================] - 177s 21ms/step - loss: 0.1939 - acc: 0.9213 - val_loss: 0.2187 - val_acc: 0.9164\n",
      "\n",
      "Epoch 00015: val_loss did not improve from 0.19497\n",
      "Epoch 16/80\n",
      "8503/8503 [==============================] - 176s 21ms/step - loss: 0.1925 - acc: 0.9230 - val_loss: 0.1968 - val_acc: 0.9122\n",
      "\n",
      "Epoch 00016: ReduceLROnPlateau reducing learning rate to 0.007349999900907278.\n",
      "\n",
      "Epoch 00016: val_loss did not improve from 0.19497\n",
      "Epoch 17/80\n",
      "8503/8503 [==============================] - 175s 21ms/step - loss: 0.1842 - acc: 0.9257 - val_loss: 0.1918 - val_acc: 0.9175\n",
      "\n",
      "Epoch 00017: val_loss improved from 0.19497 to 0.19183, saving model to C:\\MasterThesis\\python\\model_saved/data_augmentaion_15000_lstm_emb_40_.h5\n",
      "Epoch 18/80\n",
      "8503/8503 [==============================] - 176s 21ms/step - loss: 0.1780 - acc: 0.9270 - val_loss: 0.1892 - val_acc: 0.9206\n",
      "\n",
      "Epoch 00018: val_loss improved from 0.19183 to 0.18919, saving model to C:\\MasterThesis\\python\\model_saved/data_augmentaion_15000_lstm_emb_40_.h5\n",
      "Epoch 19/80\n",
      "8503/8503 [==============================] - 179s 21ms/step - loss: 0.1748 - acc: 0.9297 - val_loss: 0.1854 - val_acc: 0.9153\n",
      "\n",
      "Epoch 00019: val_loss improved from 0.18919 to 0.18539, saving model to C:\\MasterThesis\\python\\model_saved/data_augmentaion_15000_lstm_emb_40_.h5\n",
      "Epoch 20/80\n",
      "8503/8503 [==============================] - 180s 21ms/step - loss: 0.1721 - acc: 0.9274 - val_loss: 0.1886 - val_acc: 0.9132\n",
      "\n",
      "Epoch 00020: val_loss did not improve from 0.18539\n",
      "Epoch 21/80\n",
      "8503/8503 [==============================] - 178s 21ms/step - loss: 0.1680 - acc: 0.9277 - val_loss: 0.1826 - val_acc: 0.9185\n",
      "\n",
      "Epoch 00021: val_loss improved from 0.18539 to 0.18256, saving model to C:\\MasterThesis\\python\\model_saved/data_augmentaion_15000_lstm_emb_40_.h5\n",
      "Epoch 22/80\n",
      "8503/8503 [==============================] - 177s 21ms/step - loss: 0.1667 - acc: 0.9292 - val_loss: 0.1804 - val_acc: 0.9217\n",
      "\n",
      "Epoch 00022: val_loss improved from 0.18256 to 0.18035, saving model to C:\\MasterThesis\\python\\model_saved/data_augmentaion_15000_lstm_emb_40_.h5\n",
      "Epoch 23/80\n",
      "8503/8503 [==============================] - 178s 21ms/step - loss: 0.1618 - acc: 0.9304 - val_loss: 0.1780 - val_acc: 0.9185\n",
      "\n",
      "Epoch 00023: val_loss improved from 0.18035 to 0.17802, saving model to C:\\MasterThesis\\python\\model_saved/data_augmentaion_15000_lstm_emb_40_.h5\n",
      "Epoch 24/80\n",
      "8503/8503 [==============================] - 178s 21ms/step - loss: 0.1629 - acc: 0.9316 - val_loss: 0.1813 - val_acc: 0.9228\n",
      "\n",
      "Epoch 00024: val_loss did not improve from 0.17802\n",
      "Epoch 25/80\n",
      "8503/8503 [==============================] - 182s 21ms/step - loss: 0.1618 - acc: 0.9277 - val_loss: 0.1864 - val_acc: 0.9175\n",
      "\n",
      "Epoch 00025: val_loss did not improve from 0.17802\n",
      "Epoch 26/80\n",
      "8503/8503 [==============================] - 183s 22ms/step - loss: 0.1607 - acc: 0.9285 - val_loss: 0.1816 - val_acc: 0.9143\n",
      "\n",
      "Epoch 00026: val_loss did not improve from 0.17802\n",
      "Epoch 27/80\n",
      "8503/8503 [==============================] - 184s 22ms/step - loss: 0.1602 - acc: 0.9288 - val_loss: 0.1864 - val_acc: 0.9132\n",
      "\n",
      "Epoch 00027: ReduceLROnPlateau reducing learning rate to 0.005145000061020255.\n",
      "\n",
      "Epoch 00027: val_loss did not improve from 0.17802\n",
      "Epoch 28/80\n",
      "8503/8503 [==============================] - 185s 22ms/step - loss: 0.1595 - acc: 0.9312 - val_loss: 0.1779 - val_acc: 0.9206\n",
      "\n",
      "Epoch 00028: val_loss improved from 0.17802 to 0.17786, saving model to C:\\MasterThesis\\python\\model_saved/data_augmentaion_15000_lstm_emb_40_.h5\n",
      "Epoch 29/80\n",
      "8503/8503 [==============================] - 184s 22ms/step - loss: 0.1579 - acc: 0.9291 - val_loss: 0.1852 - val_acc: 0.9132\n",
      "\n",
      "Epoch 00029: val_loss did not improve from 0.17786\n",
      "Epoch 30/80\n",
      "8503/8503 [==============================] - 184s 22ms/step - loss: 0.1569 - acc: 0.9298 - val_loss: 0.1807 - val_acc: 0.9175\n",
      "\n",
      "Epoch 00030: val_loss did not improve from 0.17786\n",
      "Epoch 31/80\n",
      "8503/8503 [==============================] - 185s 22ms/step - loss: 0.1552 - acc: 0.9348 - val_loss: 0.1791 - val_acc: 0.9217\n",
      "\n",
      "Epoch 00031: val_loss did not improve from 0.17786\n",
      "Epoch 32/80\n",
      "8503/8503 [==============================] - 184s 22ms/step - loss: 0.1558 - acc: 0.9320 - val_loss: 0.1770 - val_acc: 0.9270\n",
      "\n",
      "Epoch 00032: val_loss improved from 0.17786 to 0.17703, saving model to C:\\MasterThesis\\python\\model_saved/data_augmentaion_15000_lstm_emb_40_.h5\n",
      "Epoch 33/80\n",
      "8503/8503 [==============================] - 185s 22ms/step - loss: 0.1555 - acc: 0.9331 - val_loss: 0.1899 - val_acc: 0.9164\n",
      "\n",
      "Epoch 00033: val_loss did not improve from 0.17703\n",
      "Epoch 34/80\n",
      "8503/8503 [==============================] - 184s 22ms/step - loss: 0.1571 - acc: 0.9317 - val_loss: 0.1827 - val_acc: 0.9132\n",
      "\n",
      "Epoch 00034: val_loss did not improve from 0.17703\n",
      "Epoch 35/80\n",
      "8503/8503 [==============================] - 183s 22ms/step - loss: 0.1590 - acc: 0.9303 - val_loss: 0.1802 - val_acc: 0.9206\n",
      "\n",
      "Epoch 00035: val_loss did not improve from 0.17703\n",
      "Epoch 36/80\n",
      "8503/8503 [==============================] - 185s 22ms/step - loss: 0.1565 - acc: 0.9337 - val_loss: 0.1850 - val_acc: 0.9185\n",
      "\n",
      "Epoch 00036: ReduceLROnPlateau reducing learning rate to 0.003601500205695629.\n",
      "\n",
      "Epoch 00036: val_loss did not improve from 0.17703\n",
      "Epoch 37/80\n",
      "8503/8503 [==============================] - 186s 22ms/step - loss: 0.1559 - acc: 0.9354 - val_loss: 0.1782 - val_acc: 0.9217\n",
      "\n",
      "Epoch 00037: val_loss did not improve from 0.17703\n",
      "Epoch 38/80\n",
      "8503/8503 [==============================] - 186s 22ms/step - loss: 0.1535 - acc: 0.9331 - val_loss: 0.1853 - val_acc: 0.9175\n",
      "\n",
      "Epoch 00038: val_loss did not improve from 0.17703\n",
      "Epoch 39/80\n",
      "8503/8503 [==============================] - 185s 22ms/step - loss: 0.1542 - acc: 0.9320 - val_loss: 0.1784 - val_acc: 0.9185\n",
      "\n",
      "Epoch 00039: val_loss did not improve from 0.17703\n",
      "Epoch 40/80\n",
      "8503/8503 [==============================] - 185s 22ms/step - loss: 0.1522 - acc: 0.9346 - val_loss: 0.1793 - val_acc: 0.9196\n",
      "\n",
      "Epoch 00040: ReduceLROnPlateau reducing learning rate to 0.0025210502091795204.\n",
      "\n",
      "Epoch 00040: val_loss did not improve from 0.17703\n",
      "Epoch 41/80\n",
      "8503/8503 [==============================] - 186s 22ms/step - loss: 0.1512 - acc: 0.9358 - val_loss: 0.1802 - val_acc: 0.9228\n",
      "\n",
      "Epoch 00041: val_loss did not improve from 0.17703\n",
      "Epoch 42/80\n",
      "8503/8503 [==============================] - 185s 22ms/step - loss: 0.1496 - acc: 0.9361 - val_loss: 0.1764 - val_acc: 0.9217\n",
      "\n",
      "Epoch 00042: val_loss improved from 0.17703 to 0.17641, saving model to C:\\MasterThesis\\python\\model_saved/data_augmentaion_15000_lstm_emb_40_.h5\n",
      "Epoch 43/80\n",
      "8503/8503 [==============================] - 185s 22ms/step - loss: 0.1496 - acc: 0.9363 - val_loss: 0.1828 - val_acc: 0.9164\n",
      "\n",
      "Epoch 00043: val_loss did not improve from 0.17641\n",
      "Epoch 44/80\n",
      "8503/8503 [==============================] - 186s 22ms/step - loss: 0.1488 - acc: 0.9371 - val_loss: 0.1764 - val_acc: 0.9228\n",
      "\n",
      "Epoch 00044: val_loss improved from 0.17641 to 0.17638, saving model to C:\\MasterThesis\\python\\model_saved/data_augmentaion_15000_lstm_emb_40_.h5\n",
      "Epoch 45/80\n",
      "8503/8503 [==============================] - 186s 22ms/step - loss: 0.1508 - acc: 0.9357 - val_loss: 0.1763 - val_acc: 0.9185\n",
      "\n",
      "Epoch 00045: val_loss improved from 0.17638 to 0.17634, saving model to C:\\MasterThesis\\python\\model_saved/data_augmentaion_15000_lstm_emb_40_.h5\n",
      "Epoch 46/80\n",
      "8503/8503 [==============================] - 186s 22ms/step - loss: 0.1484 - acc: 0.9352 - val_loss: 0.1786 - val_acc: 0.9217\n",
      "\n",
      "Epoch 00046: ReduceLROnPlateau reducing learning rate to 0.0017647351138293742.\n",
      "\n",
      "Epoch 00046: val_loss did not improve from 0.17634\n",
      "Epoch 47/80\n",
      "8503/8503 [==============================] - 185s 22ms/step - loss: 0.1514 - acc: 0.9371 - val_loss: 0.1832 - val_acc: 0.9164\n",
      "\n",
      "Epoch 00047: val_loss did not improve from 0.17634\n",
      "Epoch 48/80\n",
      "8503/8503 [==============================] - 185s 22ms/step - loss: 0.1496 - acc: 0.9339 - val_loss: 0.1750 - val_acc: 0.9206\n",
      "\n",
      "Epoch 00048: val_loss improved from 0.17634 to 0.17499, saving model to C:\\MasterThesis\\python\\model_saved/data_augmentaion_15000_lstm_emb_40_.h5\n",
      "Epoch 49/80\n",
      "8503/8503 [==============================] - 185s 22ms/step - loss: 0.1493 - acc: 0.9373 - val_loss: 0.1811 - val_acc: 0.9238\n",
      "\n",
      "Epoch 00049: val_loss did not improve from 0.17499\n",
      "Epoch 50/80\n",
      "8503/8503 [==============================] - 185s 22ms/step - loss: 0.1485 - acc: 0.9403 - val_loss: 0.1783 - val_acc: 0.9217\n",
      "\n",
      "Epoch 00050: val_loss did not improve from 0.17499\n",
      "Epoch 51/80\n",
      "8503/8503 [==============================] - 187s 22ms/step - loss: 0.1475 - acc: 0.9367 - val_loss: 0.1771 - val_acc: 0.9228\n",
      "\n",
      "Epoch 00051: val_loss did not improve from 0.17499\n",
      "Epoch 52/80\n",
      "8503/8503 [==============================] - 186s 22ms/step - loss: 0.1461 - acc: 0.9412 - val_loss: 0.1711 - val_acc: 0.9323\n",
      "\n",
      "Epoch 00052: val_loss improved from 0.17499 to 0.17115, saving model to C:\\MasterThesis\\python\\model_saved/data_augmentaion_15000_lstm_emb_40_.h5\n",
      "Epoch 53/80\n",
      "8503/8503 [==============================] - 185s 22ms/step - loss: 0.1453 - acc: 0.9444 - val_loss: 0.1710 - val_acc: 0.9323\n",
      "\n",
      "Epoch 00053: val_loss improved from 0.17115 to 0.17102, saving model to C:\\MasterThesis\\python\\model_saved/data_augmentaion_15000_lstm_emb_40_.h5\n",
      "Epoch 54/80\n",
      "8503/8503 [==============================] - 187s 22ms/step - loss: 0.1422 - acc: 0.9452 - val_loss: 0.1690 - val_acc: 0.9376\n",
      "\n",
      "Epoch 00054: val_loss improved from 0.17102 to 0.16904, saving model to C:\\MasterThesis\\python\\model_saved/data_augmentaion_15000_lstm_emb_40_.h5\n",
      "Epoch 55/80\n",
      "8503/8503 [==============================] - 186s 22ms/step - loss: 0.1466 - acc: 0.9421 - val_loss: 0.1670 - val_acc: 0.9354\n",
      "\n",
      "Epoch 00055: val_loss improved from 0.16904 to 0.16696, saving model to C:\\MasterThesis\\python\\model_saved/data_augmentaion_15000_lstm_emb_40_.h5\n",
      "Epoch 56/80\n",
      "8503/8503 [==============================] - 186s 22ms/step - loss: 0.1434 - acc: 0.9445 - val_loss: 0.1667 - val_acc: 0.9354\n",
      "\n",
      "Epoch 00056: val_loss improved from 0.16696 to 0.16671, saving model to C:\\MasterThesis\\python\\model_saved/data_augmentaion_15000_lstm_emb_40_.h5\n",
      "Epoch 57/80\n",
      "8503/8503 [==============================] - 186s 22ms/step - loss: 0.1459 - acc: 0.9419 - val_loss: 0.1632 - val_acc: 0.9386\n",
      "\n",
      "Epoch 00057: val_loss improved from 0.16671 to 0.16321, saving model to C:\\MasterThesis\\python\\model_saved/data_augmentaion_15000_lstm_emb_40_.h5\n",
      "Epoch 58/80\n",
      "8503/8503 [==============================] - 185s 22ms/step - loss: 0.1420 - acc: 0.9441 - val_loss: 0.1673 - val_acc: 0.9354\n",
      "\n",
      "Epoch 00058: val_loss did not improve from 0.16321\n",
      "Epoch 59/80\n",
      "8503/8503 [==============================] - 186s 22ms/step - loss: 0.1435 - acc: 0.9433 - val_loss: 0.1640 - val_acc: 0.9386\n",
      "\n",
      "Epoch 00059: val_loss did not improve from 0.16321\n",
      "Epoch 60/80\n",
      "8503/8503 [==============================] - 186s 22ms/step - loss: 0.1441 - acc: 0.9431 - val_loss: 0.1655 - val_acc: 0.9397\n",
      "\n",
      "Epoch 00060: val_loss did not improve from 0.16321\n",
      "Epoch 61/80\n",
      "8503/8503 [==============================] - 187s 22ms/step - loss: 0.1419 - acc: 0.9448 - val_loss: 0.1628 - val_acc: 0.9376\n",
      "\n",
      "Epoch 00061: val_loss improved from 0.16321 to 0.16278, saving model to C:\\MasterThesis\\python\\model_saved/data_augmentaion_15000_lstm_emb_40_.h5\n",
      "Epoch 62/80\n",
      "8503/8503 [==============================] - 187s 22ms/step - loss: 0.1441 - acc: 0.9431 - val_loss: 0.1628 - val_acc: 0.9376\n",
      "\n",
      "Epoch 00062: val_loss did not improve from 0.16278\n",
      "Epoch 63/80\n",
      "8503/8503 [==============================] - 187s 22ms/step - loss: 0.1438 - acc: 0.9434 - val_loss: 0.1602 - val_acc: 0.9376\n",
      "\n",
      "Epoch 00063: val_loss improved from 0.16278 to 0.16022, saving model to C:\\MasterThesis\\python\\model_saved/data_augmentaion_15000_lstm_emb_40_.h5\n",
      "Epoch 64/80\n",
      "8503/8503 [==============================] - 187s 22ms/step - loss: 0.1418 - acc: 0.9453 - val_loss: 0.1604 - val_acc: 0.9365\n",
      "\n",
      "Epoch 00064: val_loss did not improve from 0.16022\n",
      "Epoch 65/80\n",
      "8503/8503 [==============================] - 187s 22ms/step - loss: 0.1403 - acc: 0.9473 - val_loss: 0.1616 - val_acc: 0.9386\n",
      "\n",
      "Epoch 00065: val_loss did not improve from 0.16022\n",
      "Epoch 66/80\n",
      "8503/8503 [==============================] - 188s 22ms/step - loss: 0.1414 - acc: 0.9431 - val_loss: 0.1607 - val_acc: 0.9386\n",
      "\n",
      "Epoch 00066: val_loss did not improve from 0.16022\n",
      "Epoch 67/80\n",
      "8503/8503 [==============================] - 188s 22ms/step - loss: 0.1397 - acc: 0.9467 - val_loss: 0.1622 - val_acc: 0.9397\n",
      "\n",
      "Epoch 00067: ReduceLROnPlateau reducing learning rate to 0.0012353145633824168.\n",
      "\n",
      "Epoch 00067: val_loss did not improve from 0.16022\n",
      "Epoch 68/80\n",
      "8503/8503 [==============================] - 186s 22ms/step - loss: 0.1408 - acc: 0.9483 - val_loss: 0.1613 - val_acc: 0.9418\n",
      "\n",
      "Epoch 00068: val_loss did not improve from 0.16022\n",
      "Epoch 69/80\n",
      "8503/8503 [==============================] - 186s 22ms/step - loss: 0.1410 - acc: 0.9446 - val_loss: 0.1609 - val_acc: 0.9386\n",
      "\n",
      "Epoch 00069: val_loss did not improve from 0.16022\n",
      "Epoch 70/80\n",
      "8503/8503 [==============================] - 186s 22ms/step - loss: 0.1381 - acc: 0.9458 - val_loss: 0.1593 - val_acc: 0.9386\n",
      "\n",
      "Epoch 00070: val_loss improved from 0.16022 to 0.15926, saving model to C:\\MasterThesis\\python\\model_saved/data_augmentaion_15000_lstm_emb_40_.h5\n",
      "Epoch 71/80\n"
     ]
    },
    {
     "name": "stdout",
     "output_type": "stream",
     "text": [
      "8503/8503 [==============================] - 186s 22ms/step - loss: 0.1396 - acc: 0.9483 - val_loss: 0.1594 - val_acc: 0.9407\n",
      "\n",
      "Epoch 00071: val_loss did not improve from 0.15926\n",
      "Epoch 72/80\n",
      "8503/8503 [==============================] - 188s 22ms/step - loss: 0.1374 - acc: 0.9480 - val_loss: 0.1621 - val_acc: 0.9376\n",
      "\n",
      "Epoch 00072: val_loss did not improve from 0.15926\n",
      "Epoch 73/80\n",
      "8503/8503 [==============================] - 190s 22ms/step - loss: 0.1379 - acc: 0.9485 - val_loss: 0.1657 - val_acc: 0.9386\n",
      "\n",
      "Epoch 00073: val_loss did not improve from 0.15926\n",
      "Epoch 74/80\n",
      "8503/8503 [==============================] - 187s 22ms/step - loss: 0.1380 - acc: 0.9464 - val_loss: 0.1615 - val_acc: 0.9376\n",
      "\n",
      "Epoch 00074: ReduceLROnPlateau reducing learning rate to 0.0008647201699204742.\n",
      "\n",
      "Epoch 00074: val_loss did not improve from 0.15926\n",
      "Epoch 75/80\n",
      "8503/8503 [==============================] - 187s 22ms/step - loss: 0.1375 - acc: 0.9450 - val_loss: 0.1607 - val_acc: 0.9397\n",
      "\n",
      "Epoch 00075: val_loss did not improve from 0.15926\n",
      "Epoch 76/80\n",
      "8503/8503 [==============================] - 186s 22ms/step - loss: 0.1384 - acc: 0.9465 - val_loss: 0.1641 - val_acc: 0.9354\n",
      "\n",
      "Epoch 00076: val_loss did not improve from 0.15926\n",
      "Epoch 77/80\n",
      "8503/8503 [==============================] - 187s 22ms/step - loss: 0.1375 - acc: 0.9493 - val_loss: 0.1618 - val_acc: 0.9407\n",
      "\n",
      "Epoch 00077: val_loss did not improve from 0.15926\n",
      "Epoch 78/80\n",
      "8503/8503 [==============================] - 187s 22ms/step - loss: 0.1388 - acc: 0.9455 - val_loss: 0.1615 - val_acc: 0.9386\n",
      "\n",
      "Epoch 00078: ReduceLROnPlateau reducing learning rate to 0.0006053041026461869.\n",
      "\n",
      "Epoch 00078: val_loss did not improve from 0.15926\n",
      "Epoch 79/80\n",
      "8503/8503 [==============================] - 187s 22ms/step - loss: 0.1344 - acc: 0.9480 - val_loss: 0.1612 - val_acc: 0.9397\n",
      "\n",
      "Epoch 00079: val_loss did not improve from 0.15926\n",
      "Epoch 80/80\n",
      "8503/8503 [==============================] - 187s 22ms/step - loss: 0.1353 - acc: 0.9485 - val_loss: 0.1624 - val_acc: 0.9407\n",
      "\n",
      "Epoch 00080: val_loss did not improve from 0.15926\n"
     ]
    }
   ],
   "source": [
    "def create_model_checkpoint(dir, model_name):\n",
    "    filepath = dir + '/' + model_name + \".h5\" \n",
    "    directory = os.path.dirname(filepath)\n",
    "    try:\n",
    "        os.stat(directory)\n",
    "    except:\n",
    "        os.mkdir(directory)\n",
    "    checkpointer = ModelCheckpoint(filepath=filepath, verbose=1, save_best_only=True)\n",
    "    return checkpointer\n",
    "\n",
    "checkpointer = create_model_checkpoint('C:\\MasterThesis\\python\\model_saved', 'data_augmentaion_15000_lstm_emb_40_')\n",
    "\n",
    "\n",
    "print('Train...')\n",
    "\n",
    "change_lr=ReduceLROnPlateau(monitor='val_loss', factor=0.7, patience=4, verbose=1, mode='auto', min_delta=0.0001, cooldown=0, min_lr=0)\n",
    "earlyStopping = keras.callbacks.EarlyStopping(monitor='loss', patience=7, verbose=1, mode='auto',restore_best_weights=True)\n",
    "history = model.fit(x_train, y_train,\n",
    "          batch_size=batch_size,\n",
    "          epochs=80,\n",
    "          shuffle=True,\n",
    "          verbose=1,\n",
    "          #validation_data=(x_test, y_test),\n",
    "          validation_split=0.1,\n",
    "          callbacks=[change_lr,earlyStopping,checkpointer],\n",
    "            )\n",
    "\n"
   ]
  },
  {
   "cell_type": "code",
   "execution_count": 134,
   "metadata": {},
   "outputs": [
    {
     "name": "stdout",
     "output_type": "stream",
     "text": [
      "2362/2362 [==============================] - 12s 5ms/step\n",
      "Test score: 0.14323996722849622\n",
      "Test accuracy: 0.94623200682439\n"
     ]
    }
   ],
   "source": [
    "score, acc = model.evaluate(x_test, y_test,\n",
    "                            batch_size=batch_size)\n",
    "print('Test score:', score)\n",
    "print('Test accuracy:', acc)\n"
   ]
  },
  {
   "cell_type": "code",
   "execution_count": 135,
   "metadata": {
    "scrolled": false
   },
   "outputs": [
    {
     "data": {
      "image/png": "[encoded data removed]",
      "text/plain": [
       "<Figure size 432x288 with 1 Axes>"
      ]
     },
     "metadata": {
      "needs_background": "light"
     },
     "output_type": "display_data"
    },
    {
     "data": {
      "image/png": "[encoded data removed]",
      "text/plain": [
       "<Figure size 432x288 with 1 Axes>"
      ]
     },
     "metadata": {
      "needs_background": "light"
     },
     "output_type": "display_data"
    }
   ],
   "source": [
    "plt.plot(history.history['acc'])\n",
    "plt.plot(history.history['val_acc'])\n",
    "#plt.plot(history.history['val_recall'])\n",
    "#plt.plot(history.history['val_precision'])\n",
    "plt.title('Model accuracy')\n",
    "plt.ylabel('Accuracy')\n",
    "plt.xlabel('Epoch')\n",
    "plt.legend(['Train', 'Test'], loc='upper left')\n",
    "plt.show()\n",
    "\n",
    "# Plot training & validation loss values\n",
    "plt.plot(history.history['loss'])\n",
    "plt.plot(history.history['val_loss'])\n",
    "plt.title('Model loss')\n",
    "plt.ylabel('Loss')\n",
    "plt.xlabel('Epoch')\n",
    "plt.legend(['Train', 'Test'], loc='upper left')\n",
    "plt.show()\n"
   ]
  },
  {
   "cell_type": "code",
   "execution_count": 136,
   "metadata": {},
   "outputs": [],
   "source": [
    "model.save('C:\\MasterThesis\\python\\model_saved/lstm90_embedd40_40_lrDynamic_2019_03_31_data_augmentation_5000.h5') "
   ]
  },
  {
   "cell_type": "code",
   "execution_count": 58,
   "metadata": {},
   "outputs": [],
   "source": [
    "model2 = load_model('C:\\MasterThesis\\python\\model_saved/lstm90_embedd40_40_lrDynamic_2019_03_01_batch60_maskzero_True_Mars3_datasetincluded.h5')"
   ]
  },
  {
   "cell_type": "code",
   "execution_count": 11,
   "metadata": {},
   "outputs": [],
   "source": [
    "model = load_model('C:\\MasterThesis\\python\\model_saved/lstm90_embedd40_40_lrDynamic_2019_03_01_batch60_maskzero_True_changed_Dictionaryvalue_Mars3included.h5')"
   ]
  },
  {
   "cell_type": "markdown",
   "metadata": {},
   "source": [
    "# Choose  input and output "
   ]
  },
  {
   "cell_type": "code",
   "execution_count": 4,
   "metadata": {},
   "outputs": [],
   "source": [
    "path_spec_fail= 'C:\\MasterThesis\\document\\Logs/Jan 11\\Failed'\n",
    "path_spec_pass= 'C:\\MasterThesis\\document\\Logs/Jan 11\\Passed' \n",
    "path_spec_fail_Dec= 'C:\\MasterThesis\\document\\Logs/Dec 5\\Failed'\n",
    "path_spec_pass_Dec= 'C:\\MasterThesis\\document\\Logs/Dec 5\\Passed' \n",
    "path_spec_fail_Feb= 'C:\\MasterThesis\\document\\Logs/Feb 8\\Failed'\n",
    "path_spec_pass_Feb= 'C:\\MasterThesis\\document\\Logs/Feb 8\\Passed' \n",
    "path_spec_fail_Jan= 'C:\\MasterThesis\\document\\Logs/Jan 11\\Failed'\n",
    "path_spec_pass_Jan= 'C:\\MasterThesis\\document\\Logs/Jan 11\\Passed' \n",
    "path_spec_new='C:\\MasterThesis\\Generated'\n",
    "#path_spec_test='C:\\MasterThesis\\document\\Logs\\Jan 25 test'\n",
    "maxlength=300"
   ]
  },
  {
   "cell_type": "code",
   "execution_count": 5,
   "metadata": {},
   "outputs": [],
   "source": [
    "def csvfile_collect(path):\n",
    "    csv_file=[]\n",
    "    for (root,dirs,files) in os.walk(path, topdown=True): \n",
    "\n",
    "        for loop in range(len(files)):\n",
    "            if files[loop].endswith((\".csv\")):\n",
    "                with open(root+'/'+files[loop], 'r') as csvfile:\n",
    "                    contents=csvfile.read()   # contents type:str use contents.split() convert to list\n",
    "                    csv_file.append(contents.split()) \n",
    "    return csv_file "
   ]
  },
  {
   "cell_type": "code",
   "execution_count": 6,
   "metadata": {},
   "outputs": [],
   "source": [
    "def csvfile_collect_for_test(path):\n",
    "    csv_file=[]\n",
    "    for (root,dirs,files) in os.walk(path, topdown=True): \n",
    "        file_list=files\n",
    "        for loop in range(len(files)):\n",
    "            if files[loop].endswith((\".csv\")):\n",
    "                with open(root+'/'+files[loop], 'r') as csvfile:\n",
    "                    contents=csvfile.read()   # contents type:str use contents.split() convert to list\n",
    "                    csv_file.append(contents.split()) \n",
    "    return csv_file,file_list "
   ]
  },
  {
   "cell_type": "code",
   "execution_count": 7,
   "metadata": {},
   "outputs": [],
   "source": [
    "\n",
    "def quantify_data(csv_file):\n",
    "    csv_quantified=np.array(csv_file)\n",
    "    for case, cases in enumerate(csv_file):\n",
    "        for step,steps in enumerate(csv_file[case]):\n",
    "            csv_quantified[case][step]=my_dict[csv_file[case][step]]+1 # frist function is zero \n",
    "#    print(len(csv_quantified))\n",
    "    return csv_quantified\n",
    "   "
   ]
  },
  {
   "cell_type": "code",
   "execution_count": 8,
   "metadata": {},
   "outputs": [],
   "source": [
    "csv_file_pass =csvfile_collect(path_spec_pass)\n",
    "#print(len(csv_file_pass))\n",
    "csv_file_fail =csvfile_collect(path_spec_fail)\n",
    "\n",
    "csv_new = csvfile_collect(path_spec_new)\n",
    "\n",
    "csv_file_pass =csvfile_collect(path_spec_pass)\n",
    "#print(len(csv_file_pass))\n",
    "csv_file_fail_Dec =csvfile_collect(path_spec_fail_Dec)\n",
    "csv_file_pass_Dec =csvfile_collect(path_spec_pass_Dec)\n",
    "\n",
    "csv_file_fail_Feb =csvfile_collect(path_spec_fail_Feb)\n",
    "csv_file_pass_Feb =csvfile_collect(path_spec_pass_Feb)\n",
    "\n",
    "csv_file_fail_Jan =csvfile_collect(path_spec_fail_Jan)\n",
    "csv_file_pass_Jan =csvfile_collect(path_spec_pass_Jan)\n",
    "\n",
    "\n",
    "#csv_test,csv_test_name= csvfile_collect_for_test(path_spec_test)\n",
    "# print(csv_test_name)\n",
    "csv_file_quantify_pass=quantify_data(csv_file_pass)\n",
    "#print(len(csv_file_quantify_pass))\n",
    "csv_file_quantify_fail=quantify_data(csv_file_fail)\n",
    "\n",
    "\n",
    "csv_new_quantify=quantify_data(csv_new)\n",
    "\n",
    "\n",
    "csv_file_quantify_pass_Dec=quantify_data(csv_file_pass_Dec)\n",
    "csv_file_quantify_fail_Dec=quantify_data(csv_file_fail_Dec)\n",
    "\n",
    "csv_file_quantify_pass_Feb=quantify_data(csv_file_pass_Feb)\n",
    "csv_file_quantify_fail_Feb=quantify_data(csv_file_fail_Feb)\n",
    "\n",
    "csv_file_quantify_pass_Jan=quantify_data(csv_file_pass_Jan)\n",
    "csv_file_quantify_fail_Jan=quantify_data(csv_file_fail_Jan)\n",
    "#"
   ]
  },
  {
   "cell_type": "code",
   "execution_count": 9,
   "metadata": {},
   "outputs": [
    {
     "name": "stdout",
     "output_type": "stream",
     "text": [
      "0\n",
      "0 0 0\n"
     ]
    }
   ],
   "source": [
    "csv_file_quantified_pass = sequence.pad_sequences(csv_file_quantify_pass, maxlen=maxlength)\n",
    "print(len(csv_file_quantified_pass))\n",
    "csv_file_quantified_fail = sequence.pad_sequences(csv_file_quantify_fail, maxlen=maxlength)\n",
    "csv_new_quantified=sequence.pad_sequences(csv_new_quantify, maxlen=maxlength)\n",
    "#csv_test_quantified=sequence.pad_sequences(csv_file_test, maxlen=maxlength)\n",
    "csv_file_quantified=np.concatenate((csv_file_quantified_pass,csv_file_quantified_fail),axis=0)\n",
    "print(len(csv_file_quantified_pass),len(csv_file_quantified_fail),len(csv_file_quantified))\n",
    "#print(len(csv_test_quantified))\n",
    "\n",
    "csv_file_quantified_pass_Dec=sequence.pad_sequences(csv_file_quantify_pass_Dec, maxlen=maxlength)\n",
    "csv_file_quantified_fail_Dec=sequence.pad_sequences(csv_file_quantify_fail_Dec, maxlen=maxlength)\n",
    "\n",
    "csv_file_quantified_pass_Feb=sequence.pad_sequences(csv_file_quantify_pass_Feb, maxlen=maxlength)\n",
    "csv_file_quantified_fail_Feb=sequence.pad_sequences(csv_file_quantify_fail_Feb, maxlen=maxlength)\n",
    "\n",
    "csv_file_quantified_pass_Jan=sequence.pad_sequences(csv_file_quantify_pass_Jan, maxlen=maxlength)\n",
    "csv_file_quantified_fail_Jan=sequence.pad_sequences(csv_file_quantify_fail_Jan, maxlen=maxlength)"
   ]
  },
  {
   "cell_type": "code",
   "execution_count": 12,
   "metadata": {
    "scrolled": true
   },
   "outputs": [],
   "source": [
    "prediction_test=model.predict(csv_file_quantified_pass, batch_size=None, verbose=0, steps=None)  # choose the input \n",
    "\n",
    "#prediction_binary=(prediction>0.5)\n",
    "#print('output True=pass False=failed: \\n', prediction_binary,len(prediction_binary))"
   ]
  },
  {
   "cell_type": "code",
   "execution_count": 14,
   "metadata": {},
   "outputs": [
    {
     "ename": "UnboundLocalError",
     "evalue": "local variable 'file_list' referenced before assignment",
     "output_type": "error",
     "traceback": [
      "\u001b[1;31m---------------------------------------------------------------------------\u001b[0m",
      "\u001b[1;31mUnboundLocalError\u001b[0m                         Traceback (most recent call last)",
      "\u001b[1;32m<ipython-input-14-dd20d7a78d9f>\u001b[0m in \u001b[0;36m<module>\u001b[1;34m\u001b[0m\n\u001b[0;32m     17\u001b[0m     \u001b[0mfail_name\u001b[0m\u001b[1;33m.\u001b[0m\u001b[0mappend\u001b[0m\u001b[1;33m(\u001b[0m\u001b[0mcsv_test_name\u001b[0m\u001b[1;33m[\u001b[0m\u001b[0mi\u001b[0m\u001b[1;33m*\u001b[0m\u001b[1;36m2\u001b[0m\u001b[1;33m]\u001b[0m\u001b[1;33m)\u001b[0m\u001b[1;33m\u001b[0m\u001b[1;33m\u001b[0m\u001b[0m\n\u001b[0;32m     18\u001b[0m \u001b[1;31m#print(fail_name)\u001b[0m\u001b[1;33m\u001b[0m\u001b[1;33m\u001b[0m\u001b[1;33m\u001b[0m\u001b[0m\n\u001b[1;32m---> 19\u001b[1;33m \u001b[0mcsv_file_fail\u001b[0m\u001b[1;33m,\u001b[0m\u001b[0mcsv_file_fail_name\u001b[0m \u001b[1;33m=\u001b[0m\u001b[0mcsvfile_collect_for_test\u001b[0m\u001b[1;33m(\u001b[0m\u001b[0mpath_spec_fail\u001b[0m\u001b[1;33m)\u001b[0m\u001b[1;33m\u001b[0m\u001b[1;33m\u001b[0m\u001b[0m\n\u001b[0m\u001b[0;32m     20\u001b[0m \u001b[1;33m\u001b[0m\u001b[0m\n\u001b[0;32m     21\u001b[0m \u001b[1;32mfor\u001b[0m \u001b[0mi\u001b[0m\u001b[1;33m,\u001b[0m\u001b[0mj\u001b[0m \u001b[1;32min\u001b[0m \u001b[0menumerate\u001b[0m\u001b[1;33m(\u001b[0m\u001b[0mcsv_file_fail_name\u001b[0m\u001b[1;33m)\u001b[0m\u001b[1;33m:\u001b[0m\u001b[1;33m\u001b[0m\u001b[1;33m\u001b[0m\u001b[0m\n",
      "\u001b[1;32m<ipython-input-6-24d32f275443>\u001b[0m in \u001b[0;36mcsvfile_collect_for_test\u001b[1;34m(path)\u001b[0m\n\u001b[0;32m      8\u001b[0m                     \u001b[0mcontents\u001b[0m\u001b[1;33m=\u001b[0m\u001b[0mcsvfile\u001b[0m\u001b[1;33m.\u001b[0m\u001b[0mread\u001b[0m\u001b[1;33m(\u001b[0m\u001b[1;33m)\u001b[0m   \u001b[1;31m# contents type:str use contents.split() convert to list\u001b[0m\u001b[1;33m\u001b[0m\u001b[1;33m\u001b[0m\u001b[0m\n\u001b[0;32m      9\u001b[0m                     \u001b[0mcsv_file\u001b[0m\u001b[1;33m.\u001b[0m\u001b[0mappend\u001b[0m\u001b[1;33m(\u001b[0m\u001b[0mcontents\u001b[0m\u001b[1;33m.\u001b[0m\u001b[0msplit\u001b[0m\u001b[1;33m(\u001b[0m\u001b[1;33m)\u001b[0m\u001b[1;33m)\u001b[0m\u001b[1;33m\u001b[0m\u001b[1;33m\u001b[0m\u001b[0m\n\u001b[1;32m---> 10\u001b[1;33m     \u001b[1;32mreturn\u001b[0m \u001b[0mcsv_file\u001b[0m\u001b[1;33m,\u001b[0m\u001b[0mfile_list\u001b[0m\u001b[1;33m\u001b[0m\u001b[1;33m\u001b[0m\u001b[0m\n\u001b[0m",
      "\u001b[1;31mUnboundLocalError\u001b[0m: local variable 'file_list' referenced before assignment"
     ]
    }
   ],
   "source": [
    "passed=0\n",
    "failed=0\n",
    "threshold=0.1\n",
    "fail_index=[]\n",
    "\n",
    "for j,i in enumerate(prediction_test):\n",
    "        if i>threshold:\n",
    "            passed+=1\n",
    "        else:\n",
    "            failed+=1\n",
    "            fail_index.append(j)\n",
    "#print(fail_index)\n",
    "fail_name=[]            \n",
    "for i in fail_index:\n",
    "#    print(i)\n",
    "#    print(csv_test_name[i*2])\n",
    "    fail_name.append(csv_test_name[i*2])\n",
    "#print(fail_name)  \n",
    "csv_file_fail,csv_file_fail_name =csvfile_collect_for_test(path_spec_fail)\n",
    "\n",
    "for i,j in enumerate(csv_file_fail_name): \n",
    "    if j.endswith((\".txt\")): \n",
    "        csv_file_fail_name.pop(i)\n",
    "\n",
    "#print(fail_name)\n",
    "print('fail_name:', len(fail_name))\n",
    "print('actual fail function size :', len(csv_file_fail_name) )\n",
    "print('actual fail function name :', csv_file_fail_name)\n",
    "#if len(common_name)<len(fail_name):\n",
    "common_name=list(fail_name and csv_file_fail_name)\n",
    "\n",
    "\n",
    "#else:\n",
    "#    common_name=list(set(fail_name) and set(csv_file_fail_name))\n",
    "#    procent=len(common_name)/(len(csv_file_fail_name)/2)\n",
    "#    print(procent)\n",
    "print(common_name)\n",
    "print('common name size:',len(common_name))\n",
    "procent=len(common_name)/(len(fail_name))\n",
    "print(procent)"
   ]
  },
  {
   "cell_type": "code",
   "execution_count": 145,
   "metadata": {
    "scrolled": false
   },
   "outputs": [
    {
     "data": {
      "image/png": "[encoded data removed]",
      "text/plain": [
       "<Figure size 432x288 with 1 Axes>"
      ]
     },
     "metadata": {
      "needs_background": "light"
     },
     "output_type": "display_data"
    }
   ],
   "source": [
    "plt.plot(prediction_test,'.')\n",
    "\n",
    "plt.title('value distribution')\n",
    "plt.ylabel('value')\n",
    "plt.xlabel('data number')\n",
    "#plt.legend(['data number'], loc='upper left')\n",
    "plt.show()"
   ]
  },
  {
   "cell_type": "code",
   "execution_count": 146,
   "metadata": {},
   "outputs": [],
   "source": [
    "prediction_pass=model.predict(csv_file_quantified_fail, batch_size=None, verbose=0, steps=None) "
   ]
  },
  {
   "cell_type": "code",
   "execution_count": 147,
   "metadata": {},
   "outputs": [
    {
     "data": {
      "image/png": "[encoded data removed]",
      "text/plain": [
       "<Figure size 432x288 with 1 Axes>"
      ]
     },
     "metadata": {
      "needs_background": "light"
     },
     "output_type": "display_data"
    }
   ],
   "source": [
    "plt.plot(prediction_pass,'.')\n",
    "\n",
    "plt.title('value distribution')\n",
    "plt.ylabel('value')\n",
    "plt.xlabel('data number')\n",
    "#plt.legend(['data number'], loc='upper left')\n",
    "plt.show()"
   ]
  },
  {
   "cell_type": "code",
   "execution_count": 148,
   "metadata": {},
   "outputs": [
    {
     "name": "stdout",
     "output_type": "stream",
     "text": [
      "[]\n"
     ]
    }
   ],
   "source": [
    "prediction_new=model.predict(csv_new_quantified , batch_size=None, verbose=0, steps=None)  # choose the input \n",
    "print(prediction_new)"
   ]
  },
  {
   "cell_type": "code",
   "execution_count": 149,
   "metadata": {},
   "outputs": [
    {
     "name": "stdout",
     "output_type": "stream",
     "text": [
      "0 0\n"
     ]
    }
   ],
   "source": [
    "passed=0\n",
    "failed=0\n",
    "threshold=0.1\n",
    "for j,i in enumerate(prediction_new):\n",
    "        if i>threshold:\n",
    "            passed+=1\n",
    "        else:\n",
    "            failed+=1\n",
    "print(passed,failed)"
   ]
  },
  {
   "cell_type": "code",
   "execution_count": 150,
   "metadata": {},
   "outputs": [
    {
     "data": {
      "image/png": "[encoded data removed]",
      "text/plain": [
       "<Figure size 432x288 with 1 Axes>"
      ]
     },
     "metadata": {
      "needs_background": "light"
     },
     "output_type": "display_data"
    }
   ],
   "source": [
    "plt.plot(prediction_new,'.')\n",
    "\n",
    "plt.title('value distribution')\n",
    "plt.ylabel(' confident value')\n",
    "plt.xlabel('test case')\n",
    "#plt.legend(['data number'], loc='upper left')\n",
    "plt.show()\n"
   ]
  },
  {
   "cell_type": "code",
   "execution_count": 151,
   "metadata": {},
   "outputs": [
    {
     "data": {
      "image/png": "[encoded data removed]",
      "text/plain": [
       "<Figure size 432x288 with 1 Axes>"
      ]
     },
     "metadata": {
      "needs_background": "light"
     },
     "output_type": "display_data"
    }
   ],
   "source": [
    "\n",
    "prediction_new=model.predict(csv_file_quantified_pass_Dec, batch_size=None, verbose=0, steps=None)  # choose the input \n",
    "plt.plot(prediction_new,'.')\n",
    "\n",
    "plt.title('value distribution')\n",
    "plt.ylabel(' confident value')\n",
    "plt.xlabel('test case')\n",
    "#plt.legend(['data number'], loc='upper left')\n",
    "plt.show()"
   ]
  },
  {
   "cell_type": "code",
   "execution_count": 152,
   "metadata": {},
   "outputs": [
    {
     "data": {
      "image/png": "[encoded data removed]",
      "text/plain": [
       "<Figure size 432x288 with 1 Axes>"
      ]
     },
     "metadata": {
      "needs_background": "light"
     },
     "output_type": "display_data"
    }
   ],
   "source": [
    "prediction_new=model.predict(csv_file_quantified_fail_Dec, batch_size=None, verbose=0, steps=None)  # choose the input \n",
    "plt.plot(prediction_new,'.')\n",
    "\n",
    "plt.title('value distribution')\n",
    "plt.ylabel(' confident value')\n",
    "plt.xlabel('test case')\n",
    "#plt.legend(['data number'], loc='upper left')\n",
    "plt.show()"
   ]
  },
  {
   "cell_type": "code",
   "execution_count": 153,
   "metadata": {},
   "outputs": [
    {
     "data": {
      "image/png": "[encoded data removed]",
      "text/plain": [
       "<Figure size 432x288 with 1 Axes>"
      ]
     },
     "metadata": {
      "needs_background": "light"
     },
     "output_type": "display_data"
    }
   ],
   "source": [
    "prediction_new=model.predict(csv_file_quantified_pass_Feb, batch_size=None, verbose=0, steps=None)  # choose the input \n",
    "plt.plot(prediction_new,'.')\n",
    "\n",
    "plt.title('value distribution')\n",
    "plt.ylabel(' confident value')\n",
    "plt.xlabel('test case')\n",
    "#plt.legend(['data number'], loc='upper left')\n",
    "plt.show()"
   ]
  },
  {
   "cell_type": "code",
   "execution_count": 154,
   "metadata": {},
   "outputs": [
    {
     "data": {
      "image/png": "[encoded data removed]",
      "text/plain": [
       "<Figure size 432x288 with 1 Axes>"
      ]
     },
     "metadata": {
      "needs_background": "light"
     },
     "output_type": "display_data"
    }
   ],
   "source": [
    "prediction_new=model.predict(csv_file_quantified_fail_Feb, batch_size=None, verbose=0, steps=None)  # choose the input \n",
    "plt.plot(prediction_new,'.')\n",
    "\n",
    "plt.title('value distribution')\n",
    "plt.ylabel(' confident value')\n",
    "plt.xlabel('test case')\n",
    "#plt.legend(['data number'], loc='upper left')\n",
    "plt.show()"
   ]
  },
  {
   "cell_type": "code",
   "execution_count": 155,
   "metadata": {},
   "outputs": [
    {
     "data": {
      "image/png": "[encoded data removed]",
      "text/plain": [
       "<Figure size 432x288 with 1 Axes>"
      ]
     },
     "metadata": {
      "needs_background": "light"
     },
     "output_type": "display_data"
    }
   ],
   "source": [
    "prediction_new=model.predict(csv_file_quantified_pass_Jan, batch_size=None, verbose=0, steps=None)  # choose the input \n",
    "plt.plot(prediction_new,'.')\n",
    "\n",
    "plt.title('value distribution')\n",
    "plt.ylabel(' confident value')\n",
    "plt.xlabel('test case')\n",
    "#plt.legend(['data number'], loc='upper left')\n",
    "plt.show()"
   ]
  },
  {
   "cell_type": "code",
   "execution_count": 156,
   "metadata": {},
   "outputs": [
    {
     "data": {
      "image/png": "[encoded data removed]",
      "text/plain": [
       "<Figure size 432x288 with 1 Axes>"
      ]
     },
     "metadata": {
      "needs_background": "light"
     },
     "output_type": "display_data"
    }
   ],
   "source": [
    "prediction_new=model.predict(csv_file_quantified_fail_Jan, batch_size=None, verbose=0, steps=None)  # choose the input \n",
    "plt.plot(prediction_new,'.')\n",
    "\n",
    "plt.title('value distribution')\n",
    "plt.ylabel(' confident value')\n",
    "plt.xlabel('test case')\n",
    "#plt.legend(['data number'], loc='upper left')\n",
    "plt.show()"
   ]
  },
  {
   "cell_type": "code",
   "execution_count": 15,
   "metadata": {},
   "outputs": [
    {
     "name": "stdout",
     "output_type": "stream",
     "text": [
      "['Feb 19 (crash)', 'Feb 22', 'Feb 25', 'Jan 10']\n"
     ]
    }
   ],
   "source": [
    "count=0\n",
    "for (root,dirs,files) in os.walk('C:\\MasterThesis\\document\\Logs/untrained dataset', topdown=True): \n",
    "    if count==0:\n",
    "        folder_name=dirs\n",
    "    count+=1\n",
    "print(folder_name)"
   ]
  },
  {
   "cell_type": "code",
   "execution_count": 166,
   "metadata": {
    "scrolled": false
   },
   "outputs": [
    {
     "name": "stdout",
     "output_type": "stream",
     "text": [
      "filter threshold: 0.9\n",
      "Feb 19 (crash)\n",
      "Predict correct threshold for pass case 124\n",
      "Predict wrong threshold for pass case 45\n",
      "Predict wrong threshold for fail case 0\n",
      "Predict correct threshold for fail case 17\n",
      "Feb 22\n",
      "Predict correct threshold for pass case 291\n",
      "Predict wrong threshold for pass case 207\n",
      "Predict wrong threshold for fail case 1\n",
      "Predict correct threshold for fail case 1\n",
      "Feb 25\n",
      "Predict correct threshold for pass case 1095\n",
      "Predict wrong threshold for pass case 728\n",
      "Predict wrong threshold for fail case 2\n",
      "Predict correct threshold for fail case 3\n",
      "Jan 10\n",
      "Predict correct threshold for pass case 37\n",
      "Predict wrong threshold for pass case 18\n",
      "Predict wrong threshold for fail case 0\n",
      "Predict correct threshold for fail case 8\n",
      "####################\n",
      "total wrong predict failed test case: 3\n",
      "total correct predict failed test case: 29\n",
      "total wrong predict passed test case: 998\n",
      "total correct predict passed test case: 1547\n",
      "Time save procentage: 0.6014745828482733\n",
      "Fail cases contain procentage: 0.90625\n"
     ]
    }
   ],
   "source": [
    "maxlength=300\n",
    "procent={}\n",
    "total_failedcase_wrong=0\n",
    "total_failedcase_right=0\n",
    "total_passedcase_wrong=0\n",
    "total_passedcase_right=0\n",
    "threshold=0.9\n",
    "print('filter threshold:',threshold)\n",
    "for k in folder_name:\n",
    "    \n",
    "    Jan25_fail= 'C:\\MasterThesis\\document\\Logs/untrained dataset/'+k+'/Failed'\n",
    "    csv_Jan25_fail =csvfile_collect(Jan25_fail)\n",
    "    Jan25_quantify_fail=quantify_data(csv_Jan25_fail)\n",
    "    Jan25_quantified_fail = sequence.pad_sequences(Jan25_quantify_fail, maxlen=maxlength)\n",
    "    prediction_fail=model.predict(Jan25_quantified_fail, batch_size=None, verbose=0, steps=None) \n",
    "\n",
    "    Jan25_pass= 'C:\\MasterThesis\\document\\Logs/untrained dataset/'+k+'/Passed'\n",
    "    csv_Jan25_pass =csvfile_collect(Jan25_pass)\n",
    "    Jan25_quantify_pass=quantify_data(csv_Jan25_pass)\n",
    "    Jan25_quantified_pass = sequence.pad_sequences(Jan25_quantify_pass, maxlen=maxlength)\n",
    "    prediction_pass=model.predict(Jan25_quantified_pass, batch_size=None, verbose=0, steps=None) \n",
    "\n",
    "    above_threshold_pass=0\n",
    "    under_threshold_pass=0\n",
    "    \n",
    "    for j,i in enumerate(prediction_pass):\n",
    "            if i>threshold:\n",
    "                above_threshold_pass+=1\n",
    "            else:\n",
    "                under_threshold_pass+=1\n",
    "    print(k)\n",
    "    print('Predict correct threshold for pass case',above_threshold_pass)\n",
    "    print('Predict wrong threshold for pass case',under_threshold_pass)\n",
    "\n",
    "    above_threshold_fail=0\n",
    "    under_threshold_fail=0\n",
    "\n",
    "    for j,i in enumerate(prediction_fail):\n",
    "            if i>threshold:\n",
    "                above_threshold_fail+=1\n",
    "            else:\n",
    "                under_threshold_fail+=1\n",
    "\n",
    "    print('Predict wrong threshold for fail case',above_threshold_fail)\n",
    "    print('Predict correct threshold for fail case',under_threshold_fail)\n",
    "    \n",
    "    total_failedcase_wrong+=above_threshold_fail\n",
    "    total_failedcase_right+=under_threshold_fail\n",
    "    \n",
    "    total_passedcase_wrong+=under_threshold_pass\n",
    "    total_passedcase_right+=above_threshold_pass   \n",
    "print('####################')\n",
    "print('total wrong predict failed test case:',total_failedcase_wrong)\n",
    "print('total correct predict failed test case:',total_failedcase_right)\n",
    "print('total wrong predict passed test case:',total_passedcase_wrong)\n",
    "print('total correct predict passed test case:',total_passedcase_right)\n",
    "\n",
    "total=total_failedcase_wrong+total_failedcase_right+total_passedcase_wrong+total_passedcase_right\n",
    "\n",
    "print('Time save procentage:',1-(total_passedcase_wrong+total_failedcase_right)/total )\n",
    "print('Fail cases contain procentage:',total_failedcase_right/(total_failedcase_wrong+total_failedcase_right) )"
   ]
  },
  {
   "cell_type": "code",
   "execution_count": 163,
   "metadata": {},
   "outputs": [
    {
     "data": {
      "image/png": "[encoded data removed]",
      "text/plain": [
       "<Figure size 432x288 with 1 Axes>"
      ]
     },
     "metadata": {
      "needs_background": "light"
     },
     "output_type": "display_data"
    },
    {
     "data": {
      "image/png": "[encoded data removed]",
      "text/plain": [
       "<Figure size 432x288 with 1 Axes>"
      ]
     },
     "metadata": {
      "needs_background": "light"
     },
     "output_type": "display_data"
    }
   ],
   "source": [
    "maxlength=300\n",
    "#Jan25_fail= 'C:\\MasterThesis\\document\\Logs/untrained dataset/'++'/Failed'\n",
    "Jan25_fail= 'C:\\MasterThesis\\document\\Logs/Mars 6 (extli) balder/Failed'\n",
    "csv_Jan25_fail =csvfile_collect(Jan25_fail)\n",
    "Jan25_quantify_fail=quantify_data(csv_Jan25_fail)\n",
    "Jan25_quantified_fail = sequence.pad_sequences(Jan25_quantify_fail, maxlen=maxlength)\n",
    "prediction_fail=model.predict(Jan25_quantified_fail, batch_size=None, verbose=0, steps=None) \n",
    "#'C:\\MasterThesis\\document\\Logs/log files/Okt 31/Passed'\n",
    "Jan25_pass= 'C:\\MasterThesis\\document\\Logs/Mars 6 (extli) balder/Passed'\n",
    "csv_Jan25_pass =csvfile_collect(Jan25_pass)\n",
    "Jan25_quantify_pass=quantify_data(csv_Jan25_pass)\n",
    "Jan25_quantified_pass = sequence.pad_sequences(Jan25_quantify_pass, maxlen=maxlength)\n",
    "prediction_pass=model.predict(Jan25_quantified_pass, batch_size=None, verbose=0, steps=None) \n",
    "\n",
    "plt.plot(prediction_pass,'.')\n",
    "\n",
    "plt.title('value distribution')\n",
    "plt.ylabel('value')\n",
    "plt.xlabel('data number')\n",
    "#plt.legend(['data number'], loc='upper left')\n",
    "\n",
    "plt.show()\n",
    "\n",
    "plt.plot(prediction_fail,'.')\n",
    "\n",
    "plt.title('value distribution')\n",
    "plt.ylim(0, 1)\n",
    "plt.ylabel('value')\n",
    "\n",
    "plt.xlabel('data number')\n",
    "#plt.legend(['data number'], loc='upper left')\n",
    "plt.show()"
   ]
  },
  {
   "cell_type": "code",
   "execution_count": 17,
   "metadata": {},
   "outputs": [
    {
     "name": "stdout",
     "output_type": "stream",
     "text": [
      "filter threshold: 0.4\n"
     ]
    },
    {
     "ename": "NameError",
     "evalue": "name 'prediction_pass' is not defined",
     "output_type": "error",
     "traceback": [
      "\u001b[1;31m---------------------------------------------------------------------------\u001b[0m",
      "\u001b[1;31mNameError\u001b[0m                                 Traceback (most recent call last)",
      "\u001b[1;32m<ipython-input-17-c730f8a61a06>\u001b[0m in \u001b[0;36m<module>\u001b[1;34m\u001b[0m\n\u001b[0;32m      9\u001b[0m \u001b[0mthreshold\u001b[0m\u001b[1;33m=\u001b[0m\u001b[1;36m0.4\u001b[0m\u001b[1;33m\u001b[0m\u001b[1;33m\u001b[0m\u001b[0m\n\u001b[0;32m     10\u001b[0m \u001b[0mprint\u001b[0m\u001b[1;33m(\u001b[0m\u001b[1;34m'filter threshold:'\u001b[0m\u001b[1;33m,\u001b[0m\u001b[0mthreshold\u001b[0m\u001b[1;33m)\u001b[0m\u001b[1;33m\u001b[0m\u001b[1;33m\u001b[0m\u001b[0m\n\u001b[1;32m---> 11\u001b[1;33m \u001b[1;32mfor\u001b[0m \u001b[0mj\u001b[0m\u001b[1;33m,\u001b[0m\u001b[0mi\u001b[0m \u001b[1;32min\u001b[0m \u001b[0menumerate\u001b[0m\u001b[1;33m(\u001b[0m\u001b[0mprediction_pass\u001b[0m\u001b[1;33m)\u001b[0m\u001b[1;33m:\u001b[0m\u001b[1;33m\u001b[0m\u001b[1;33m\u001b[0m\u001b[0m\n\u001b[0m\u001b[0;32m     12\u001b[0m         \u001b[1;32mif\u001b[0m \u001b[0mi\u001b[0m\u001b[1;33m>\u001b[0m\u001b[0mthreshold\u001b[0m\u001b[1;33m:\u001b[0m\u001b[1;33m\u001b[0m\u001b[1;33m\u001b[0m\u001b[0m\n\u001b[0;32m     13\u001b[0m             \u001b[0mabove_threshold_pass\u001b[0m\u001b[1;33m+=\u001b[0m\u001b[1;36m1\u001b[0m\u001b[1;33m\u001b[0m\u001b[1;33m\u001b[0m\u001b[0m\n",
      "\u001b[1;31mNameError\u001b[0m: name 'prediction_pass' is not defined"
     ]
    }
   ],
   "source": [
    "maxlength=300\n",
    "procent={}\n",
    "total_failedcase_wrong=0\n",
    "total_failedcase_right=0\n",
    "total_passedcase_wrong=0\n",
    "total_passedcase_right=0\n",
    "above_threshold_pass=0\n",
    "under_threshold_pass=0\n",
    "threshold=0.4\n",
    "print('filter threshold:',threshold)\n",
    "for j,i in enumerate(prediction_pass):\n",
    "        if i>threshold:\n",
    "            above_threshold_pass+=1\n",
    "        else:\n",
    "            under_threshold_pass+=1\n",
    "\n",
    "print('Predict correct threshold for pass case',above_threshold_pass)\n",
    "print('Predict wrong threshold for pass case',under_threshold_pass)\n",
    "\n",
    "above_threshold_fail=0\n",
    "under_threshold_fail=0\n",
    "\n",
    "for j,i in enumerate(prediction_fail):\n",
    "        if i>threshold:\n",
    "            above_threshold_fail+=1\n",
    "        else:\n",
    "            under_threshold_fail+=1\n",
    "\n",
    "print('Predict wrong threshold for fail case',above_threshold_fail)\n",
    "print('Predict correct threshold for fail case',under_threshold_fail)\n",
    "    "
   ]
  },
  {
   "cell_type": "code",
   "execution_count": 16,
   "metadata": {},
   "outputs": [
    {
     "ename": "NameError",
     "evalue": "name 'prediction_fail' is not defined",
     "output_type": "error",
     "traceback": [
      "\u001b[1;31m---------------------------------------------------------------------------\u001b[0m",
      "\u001b[1;31mNameError\u001b[0m                                 Traceback (most recent call last)",
      "\u001b[1;32m<ipython-input-16-15946e252449>\u001b[0m in \u001b[0;36m<module>\u001b[1;34m\u001b[0m\n\u001b[0;32m      7\u001b[0m \u001b[0mfail_index\u001b[0m\u001b[1;33m=\u001b[0m\u001b[1;33m[\u001b[0m\u001b[1;33m]\u001b[0m\u001b[1;33m\u001b[0m\u001b[1;33m\u001b[0m\u001b[0m\n\u001b[0;32m      8\u001b[0m \u001b[1;33m\u001b[0m\u001b[0m\n\u001b[1;32m----> 9\u001b[1;33m \u001b[1;32mfor\u001b[0m \u001b[0mj\u001b[0m\u001b[1;33m,\u001b[0m\u001b[0mi\u001b[0m \u001b[1;32min\u001b[0m \u001b[0menumerate\u001b[0m\u001b[1;33m(\u001b[0m\u001b[0mprediction_fail\u001b[0m\u001b[1;33m)\u001b[0m\u001b[1;33m:\u001b[0m\u001b[1;33m\u001b[0m\u001b[1;33m\u001b[0m\u001b[0m\n\u001b[0m\u001b[0;32m     10\u001b[0m         \u001b[1;32mif\u001b[0m \u001b[0mi\u001b[0m\u001b[1;33m>\u001b[0m\u001b[0mthreshold\u001b[0m\u001b[1;33m:\u001b[0m\u001b[1;33m\u001b[0m\u001b[1;33m\u001b[0m\u001b[0m\n\u001b[0;32m     11\u001b[0m             \u001b[0mpassed\u001b[0m\u001b[1;33m+=\u001b[0m\u001b[1;36m1\u001b[0m\u001b[1;33m\u001b[0m\u001b[1;33m\u001b[0m\u001b[0m\n",
      "\u001b[1;31mNameError\u001b[0m: name 'prediction_fail' is not defined"
     ]
    }
   ],
   "source": [
    "path_spec_fail= 'C:\\MasterThesis\\document\\Logs/Mars 6 (extli) balder/Failed'\n",
    "\n",
    "\n",
    "passed=0\n",
    "failed=0\n",
    "threshold=0.8\n",
    "fail_index=[]\n",
    "\n",
    "for j,i in enumerate(prediction_fail):\n",
    "        if i>threshold:\n",
    "            passed+=1\n",
    "        else:\n",
    "            failed+=1\n",
    "            fail_index.append(j)\n",
    "#print(fail_index)\n",
    "fail_name=[]            \n",
    "for i in fail_index:\n",
    "#    print(i)\n",
    "#    print(csv_test_name[i*2])\n",
    "    fail_name.append(csv_test_name[i*2])\n",
    "#print(fail_name)  \n",
    "csv_file_fail,csv_file_fail_name =csvfile_collect_for_test(path_spec_fail)\n",
    "\n",
    "for i,j in enumerate(csv_file_fail_name): \n",
    "    if j.endswith((\".txt\")): \n",
    "        csv_file_fail_name.pop(i)\n",
    "\n",
    "#print(fail_name)\n",
    "print(' predict fail_name:', len(fail_name),fail_name)\n",
    "print('actual fail function size :', len(csv_file_fail_name) )\n",
    "print('actual fail function name :', csv_file_fail_name)\n",
    "#if len(common_name)<len(fail_name):\n",
    "common_name=list(fail_name and csv_file_fail_name)\n",
    "\n",
    "\n",
    "#else:\n",
    "#    common_name=list(set(fail_name) and set(csv_file_fail_name))\n",
    "#    procent=len(common_name)/(len(csv_file_fail_name)/2)\n",
    "#    print(procent)\n",
    "#print(common_name)\n",
    "#print('common name size:',len(common_name))\n",
    "#procent=len(common_name)/(len(fail_name))\n",
    "\n",
    "print(procent)"
   ]
  },
  {
   "cell_type": "code",
   "execution_count": null,
   "metadata": {},
   "outputs": [],
   "source": [
    "['test_case_117.csv', 'test_case_152.csv', 'test_case_223.csv', 'test_case_325.csv', 'test_case_367.csv', 'test_case_481.csv', 'test_case_84.csv']"
   ]
  },
  {
   "cell_type": "code",
   "execution_count": 11,
   "metadata": {},
   "outputs": [],
   "source": [
    "maxlength=300"
   ]
  },
  {
   "cell_type": "code",
   "execution_count": 164,
   "metadata": {},
   "outputs": [
    {
     "data": {
      "image/png": "[encoded data removed]",
      "text/plain": [
       "<Figure size 432x288 with 1 Axes>"
      ]
     },
     "metadata": {
      "needs_background": "light"
     },
     "output_type": "display_data"
    },
    {
     "data": {
      "image/png": "[encoded data removed]",
      "text/plain": [
       "<Figure size 432x288 with 1 Axes>"
      ]
     },
     "metadata": {
      "needs_background": "light"
     },
     "output_type": "display_data"
    }
   ],
   "source": [
    "Jan25_fail= 'C:\\MasterThesis\\document\\Logs/untrained dataset\\Jan 10/Failed'\n",
    "csv_Jan25_fail =csvfile_collect(Jan25_fail)\n",
    "Jan25_quantify_fail=quantify_data(csv_Jan25_fail)\n",
    "Jan25_quantified_fail = sequence.pad_sequences(Jan25_quantify_fail, maxlen=maxlength)\n",
    "prediction_fail=model2.predict(Jan25_quantified_fail, batch_size=None, verbose=0, steps=None) \n",
    "\n",
    "Jan25_pass= 'C:\\MasterThesis\\document\\Logs/untrained dataset\\Jan 10/Passed'\n",
    "csv_Jan25_pass =csvfile_collect(Jan25_pass)\n",
    "Jan25_quantify_pass=quantify_data(csv_Jan25_pass)\n",
    "Jan25_quantified_pass = sequence.pad_sequences(Jan25_quantify_pass, maxlen=maxlength)\n",
    "prediction_pass=model2.predict(Jan25_quantified_pass, batch_size=None, verbose=0, steps=None) \n",
    "\n",
    "plt.plot(prediction_pass,'.')\n",
    "\n",
    "plt.title('value distribution')\n",
    "plt.ylabel('value')\n",
    "plt.xlabel('data number')\n",
    "#plt.legend(['data number'], loc='upper left')\n",
    "\n",
    "plt.show()\n",
    "\n",
    "\n",
    "plt.plot(prediction_fail,'.')\n",
    "\n",
    "plt.title('value distribution')\n",
    "plt.ylim(0, 1)\n",
    "plt.ylabel('value')\n",
    "\n",
    "plt.xlabel('data number')\n",
    "#plt.legend(['data number'], loc='upper left')\n",
    "plt.show()"
   ]
  },
  {
   "cell_type": "code",
   "execution_count": 165,
   "metadata": {},
   "outputs": [
    {
     "name": "stdout",
     "output_type": "stream",
     "text": [
      "filter threshold: 0.8\n",
      "Predict correct threshold for pass case 23\n",
      "Predict wrong threshold for pass case 32\n",
      "Predict wrong threshold for fail case 0\n",
      "Predict correct threshold for fail case 8\n"
     ]
    }
   ],
   "source": [
    "maxlength=300\n",
    "procent={}\n",
    "total_failedcase_wrong=0\n",
    "total_failedcase_right=0\n",
    "total_passedcase_wrong=0\n",
    "total_passedcase_right=0\n",
    "above_threshold_pass=0\n",
    "under_threshold_pass=0\n",
    "threshold=0.8\n",
    "print('filter threshold:',threshold)\n",
    "for j,i in enumerate(prediction_pass):\n",
    "        if i>threshold:\n",
    "            above_threshold_pass+=1\n",
    "        else:\n",
    "            under_threshold_pass+=1\n",
    "\n",
    "print('Predict correct threshold for pass case',above_threshold_pass)\n",
    "print('Predict wrong threshold for pass case',under_threshold_pass)\n",
    "\n",
    "above_threshold_fail=0\n",
    "under_threshold_fail=0\n",
    "\n",
    "for j,i in enumerate(prediction_fail):\n",
    "        if i>threshold:\n",
    "            above_threshold_fail+=1\n",
    "        else:\n",
    "            under_threshold_fail+=1\n",
    "\n",
    "print('Predict wrong threshold for fail case',above_threshold_fail)\n",
    "print('Predict correct threshold for fail case',under_threshold_fail)\n",
    "    "
   ]
  },
  {
   "cell_type": "code",
   "execution_count": null,
   "metadata": {},
   "outputs": [],
   "source": []
  }
 ],
 "metadata": {
  "kernelspec": {
   "display_name": "Python 3",
   "language": "python",
   "name": "python3"
  },
  "language_info": {
   "codemirror_mode": {
    "name": "ipython",
    "version": 3
   },
   "file_extension": ".py",
   "mimetype": "text/x-python",
   "name": "python",
   "nbconvert_exporter": "python",
   "pygments_lexer": "ipython3",
   "version": "3.7.1"
  }
 },
 "nbformat": 4,
 "nbformat_minor": 2
}
